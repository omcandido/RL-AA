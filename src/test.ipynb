{
 "cells": [
  {
   "cell_type": "code",
   "execution_count": 1,
   "metadata": {},
   "outputs": [
    {
     "name": "stderr",
     "output_type": "stream",
     "text": [
      "c:\\Users\\omcan\\miniconda3\\envs\\py39\\lib\\site-packages\\seaborn\\rcmod.py:82: DeprecationWarning: distutils Version classes are deprecated. Use packaging.version instead.\n",
      "  if LooseVersion(mpl.__version__) >= \"3.0\":\n",
      "c:\\Users\\omcan\\miniconda3\\envs\\py39\\lib\\site-packages\\setuptools\\_distutils\\version.py:346: DeprecationWarning: distutils Version classes are deprecated. Use packaging.version instead.\n",
      "  other = LooseVersion(other)\n"
     ]
    }
   ],
   "source": [
    "from environments.takeaway import utils as twy\n",
    "from environments.takeaway.co_aa_takeaway import COAATakeaway\n",
    "from argumentation.utils import construct_all_attacks, order_to_matrix\n",
    "from argumentation.classes import ArgumentationFramework\n",
    "from agents.co_aa_agent import COAAAgent\n",
    "from utils import run_episode\n",
    "\n",
    "import subprocess\n",
    "import socket\n",
    "import numpy as np\n",
    "import pandas as pd\n",
    "import seaborn as sns\n",
    "%matplotlib inline\n",
    "import matplotlib.pyplot as plt\n",
    "plt.style.use('seaborn-whitegrid')\n",
    "\n",
    "from tqdm.notebook import tqdm"
   ]
  },
  {
   "cell_type": "code",
   "execution_count": 2,
   "metadata": {},
   "outputs": [],
   "source": [
    "args = ['a', 'b', 'c', 'd', 'e']\n",
    "\n",
    "epsilon = 0.3\n",
    "gamma = 0.99\n",
    "alpha = 1e-3\n",
    "agent = COAAAgent(alpha, gamma, epsilon, args)"
   ]
  },
  {
   "cell_type": "code",
   "execution_count": 3,
   "metadata": {},
   "outputs": [
    {
     "data": {
      "text/plain": [
       "['a', 'd', 'e', 'c', 'b']"
      ]
     },
     "execution_count": 3,
     "metadata": {},
     "output_type": "execute_result"
    }
   ],
   "source": [
    "agent.order"
   ]
  },
  {
   "cell_type": "code",
   "execution_count": 4,
   "metadata": {},
   "outputs": [
    {
     "data": {
      "text/plain": [
       "0"
      ]
     },
     "execution_count": 4,
     "metadata": {},
     "output_type": "execute_result"
    }
   ],
   "source": [
    "agent = COAAAgent(alpha, gamma, epsilon, args)\n",
    "state = order_to_matrix([], ['a','b', 'c', 'd', 'e'], True)\n",
    "agent.w[state,args.index('d')] = -1\n",
    "agent.w[state,args.index('a')] = -2\n",
    "agent.w[state,args.index('e')] = -3\n",
    "agent.w[state,args.index('b')] = -4\n",
    "agent.w[state,args.index('c')] = -5\n",
    "# agent.order\n",
    "order = ['b', 'd', 'e']\n",
    "arr = np.array(list(set(args)-set(order)), dtype='str')\n",
    "allowed = np.searchsorted(args, arr).tolist()\n",
    "\n",
    "agent.select_action(order_to_matrix(order, args, True), is_greedy = True, allowed_actions=allowed)"
   ]
  },
  {
   "cell_type": "code",
   "execution_count": null,
   "metadata": {},
   "outputs": [],
   "source": [
    "\n"
   ]
  },
  {
   "cell_type": "code",
   "execution_count": null,
   "metadata": {},
   "outputs": [],
   "source": []
  },
  {
   "cell_type": "code",
   "execution_count": 7,
   "metadata": {},
   "outputs": [
    {
     "data": {
      "text/plain": [
       "['TackleBall1',\n",
       " 'TackleBall2',\n",
       " 'TackleBall3',\n",
       " 'MinAngle3,2',\n",
       " 'MinAngle2,3',\n",
       " 'MinDist2,2',\n",
       " 'MinDist1,2',\n",
       " 'MinAngle1,4',\n",
       " 'MinAngle3,4',\n",
       " 'MinDist2,4',\n",
       " 'MinDist1,4',\n",
       " 'MinDist3,2',\n",
       " 'MinAngle1,3',\n",
       " 'MinAngle3,3',\n",
       " 'MinDist2,3',\n",
       " 'MinDist3,3',\n",
       " 'MinAngle1,2',\n",
       " 'MinDist3,4',\n",
       " 'MinAngle2,4',\n",
       " 'MinDist1,3',\n",
       " 'MinAngle2,2',\n",
       " 'OpenKeeper1,2',\n",
       " 'OpenKeeper2,2',\n",
       " 'OpenKeeper1,3',\n",
       " 'OpenKeeper2,4',\n",
       " 'OpenKeeper3,4',\n",
       " 'OpenKeeper2,3',\n",
       " 'OpenKeeper3,2',\n",
       " 'OpenKeeper3,3',\n",
       " 'OpenKeeper1,4',\n",
       " 'FarKeeper2,4',\n",
       " 'FarKeeper3,2',\n",
       " 'FarKeeper2,3',\n",
       " 'FarKeeper1,4',\n",
       " 'FarKeeper2,2',\n",
       " 'FarKeeper3,3',\n",
       " 'FarKeeper1,3',\n",
       " 'FarKeeper1,2',\n",
       " 'FarKeeper3,4']"
      ]
     },
     "execution_count": 7,
     "metadata": {},
     "output_type": "execute_result"
    }
   ],
   "source": [
    "arg_actions = twy.arg_actions\n",
    "args = list(arg_actions.keys())\n",
    "args\n",
    "\n",
    "agent = COAAAgent(alpha, gamma, epsilon, args)\n",
    "state = order_to_matrix([], args, True)\n",
    "\n",
    "agent.w[state,args.index('TackleBall1')] = -1\n",
    "agent.w[state,args.index('TackleBall2')] = -1\n",
    "agent.w[state,args.index('TackleBall3')] = -1\n",
    "\n",
    "agent.w[state,args.index('MinAngle1,3')] = -2\n",
    "agent.w[state,args.index('MinAngle1,2')] = -2\n",
    "agent.w[state,args.index('MinAngle1,4')] = -2\n",
    "agent.w[state,args.index('MinAngle2,2')] = -2\n",
    "agent.w[state,args.index('MinAngle2,3')] = -2\n",
    "agent.w[state,args.index('MinAngle2,4')] = -2\n",
    "agent.w[state,args.index('MinAngle3,2')] = -2\n",
    "agent.w[state,args.index('MinAngle3,3')] = -2\n",
    "agent.w[state,args.index('MinAngle3,4')] = -2\n",
    "\n",
    "agent.w[state,args.index('MinDist1,3')] = -2\n",
    "agent.w[state,args.index('MinDist1,2')] = -2\n",
    "agent.w[state,args.index('MinDist1,4')] = -2\n",
    "agent.w[state,args.index('MinDist2,2')] = -2\n",
    "agent.w[state,args.index('MinDist2,3')] = -2\n",
    "agent.w[state,args.index('MinDist2,4')] = -2\n",
    "agent.w[state,args.index('MinDist3,2')] = -2\n",
    "agent.w[state,args.index('MinDist3,3')] = -2\n",
    "agent.w[state,args.index('MinDist3,4')] = -2\n",
    "\n",
    "agent.w[state,args.index('OpenKeeper1,2')] = -3\n",
    "agent.w[state,args.index('OpenKeeper1,3')] = -3\n",
    "agent.w[state,args.index('OpenKeeper1,4')] = -3\n",
    "agent.w[state,args.index('OpenKeeper2,2')] = -3\n",
    "agent.w[state,args.index('OpenKeeper2,3')] = -3\n",
    "agent.w[state,args.index('OpenKeeper2,4')] = -3\n",
    "agent.w[state,args.index('OpenKeeper3,2')] = -3\n",
    "agent.w[state,args.index('OpenKeeper3,3')] = -3\n",
    "agent.w[state,args.index('OpenKeeper3,4')] = -3\n",
    "\n",
    "agent.w[state,args.index('FarKeeper1,2')] = -4\n",
    "agent.w[state,args.index('FarKeeper1,3')] = -4\n",
    "agent.w[state,args.index('FarKeeper1,4')] = -4\n",
    "agent.w[state,args.index('FarKeeper2,2')] = -4\n",
    "agent.w[state,args.index('FarKeeper2,3')] = -4\n",
    "agent.w[state,args.index('FarKeeper2,4')] = -4\n",
    "agent.w[state,args.index('FarKeeper3,2')] = -4\n",
    "agent.w[state,args.index('FarKeeper3,3')] = -4\n",
    "agent.w[state,args.index('FarKeeper3,4')] = -4\n",
    "\n",
    "agent.order"
   ]
  },
  {
   "cell_type": "code",
   "execution_count": null,
   "metadata": {},
   "outputs": [],
   "source": []
  },
  {
   "cell_type": "code",
   "execution_count": null,
   "metadata": {},
   "outputs": [],
   "source": []
  }
 ],
 "metadata": {
  "kernelspec": {
   "display_name": "Python 3.9.13 ('py39')",
   "language": "python",
   "name": "python3"
  },
  "language_info": {
   "codemirror_mode": {
    "name": "ipython",
    "version": 3
   },
   "file_extension": ".py",
   "mimetype": "text/x-python",
   "name": "python",
   "nbconvert_exporter": "python",
   "pygments_lexer": "ipython3",
   "version": "3.9.13"
  },
  "orig_nbformat": 4,
  "vscode": {
   "interpreter": {
    "hash": "911af48cb114f1badf26f9e728447efe2c39b0dc7018bfc0d818f2f864bac44a"
   }
  }
 },
 "nbformat": 4,
 "nbformat_minor": 2
}
