{
 "cells": [
  {
   "cell_type": "code",
   "execution_count": 1,
   "metadata": {},
   "outputs": [],
   "source": [
    "import sys\n",
    "sys.path.append(\"..\")\n",
    "\n",
    "import numpy as np\n",
    "from tqdm.notebook import tqdm\n",
    "from matplotlib.lines import Line2D\n",
    "import matplotlib.pyplot as plt\n",
    "from datetime import datetime\n",
    "import pandas as pd\n",
    "import seaborn as sns\n",
    "from copy import deepcopy\n",
    "\n",
    "from environments.frozen_lake.utils import FLActions, fl_observation_to_premises, fl_premises_to_args, arg_actions_naive, arg_actions_advanced2, arg_actions_advanced3, arg_actions_advanced4\n",
    "from environments.co_aa.co_aa import COAAenv\n",
    "from agents.co_aa_agent import COAAAgent\n",
    "from agents.frozen_lake_agent import FLAAAgent, FrozenLakeAgent, FLRandomAgent, FLRandomAwareAgent, FLHandcraftedAgent\n",
    "\n",
    "from argumentation.classes import ArgumentationFramework, ValuebasedArgumentationFramework\n",
    "from argumentation.utils import construct_all_attacks\n",
    "\n",
    "from utils import run_episode, new_fl_env\n"
   ]
  },
  {
   "cell_type": "code",
   "execution_count": 2,
   "metadata": {},
   "outputs": [],
   "source": [
    "arg_actions_naive = arg_actions_naive\n",
    "args_naive = list(arg_actions_naive.keys())\n",
    "atts_naive = construct_all_attacks(arg_actions_naive)\n",
    "af_naive = ArgumentationFramework(args_naive, atts_naive)\n",
    "\n",
    "arg_actions_advanced = arg_actions_advanced3\n",
    "args_advanced = list(arg_actions_advanced3.keys())\n",
    "atts_advanced = construct_all_attacks(arg_actions_advanced)\n",
    "af_advanced = ArgumentationFramework(args_advanced, atts_advanced)"
   ]
  },
  {
   "cell_type": "markdown",
   "metadata": {},
   "source": [
    "### A: models comparison (single environment)"
   ]
  },
  {
   "cell_type": "code",
   "execution_count": 3,
   "metadata": {},
   "outputs": [
    {
     "data": {
      "application/vnd.jupyter.widget-view+json": {
       "model_id": "45d63b64666a4b24b20a8eeb85e85ad3",
       "version_major": 2,
       "version_minor": 0
      },
      "text/plain": [
       "run: 1, p: 0.9:   0%|          | 0/5000 [00:00<?, ?it/s]"
      ]
     },
     "metadata": {},
     "output_type": "display_data"
    },
    {
     "data": {
      "application/vnd.jupyter.widget-view+json": {
       "model_id": "ae0d88d3286c4c25ab533a74567933d8",
       "version_major": 2,
       "version_minor": 0
      },
      "text/plain": [
       "run: 1, p: 0.8:   0%|          | 0/5000 [00:00<?, ?it/s]"
      ]
     },
     "metadata": {},
     "output_type": "display_data"
    },
    {
     "data": {
      "application/vnd.jupyter.widget-view+json": {
       "model_id": "e5874d2970ec4ee79b93b3b29b412d2c",
       "version_major": 2,
       "version_minor": 0
      },
      "text/plain": [
       "run: 1, p: 0.7:   0%|          | 0/5000 [00:00<?, ?it/s]"
      ]
     },
     "metadata": {},
     "output_type": "display_data"
    },
    {
     "data": {
      "application/vnd.jupyter.widget-view+json": {
       "model_id": "dc78638fbabc4779b2e9b693e5dcc049",
       "version_major": 2,
       "version_minor": 0
      },
      "text/plain": [
       "run: 1, p: 0.6:   0%|          | 0/5000 [00:00<?, ?it/s]"
      ]
     },
     "metadata": {},
     "output_type": "display_data"
    },
    {
     "data": {
      "application/vnd.jupyter.widget-view+json": {
       "model_id": "a55ae7c9139b428795f0d2dc8e54c228",
       "version_major": 2,
       "version_minor": 0
      },
      "text/plain": [
       "run: 2, p: 0.9:   0%|          | 0/5000 [00:00<?, ?it/s]"
      ]
     },
     "metadata": {},
     "output_type": "display_data"
    },
    {
     "data": {
      "application/vnd.jupyter.widget-view+json": {
       "model_id": "0a77b87ae6664483ba182fb50da50d02",
       "version_major": 2,
       "version_minor": 0
      },
      "text/plain": [
       "run: 2, p: 0.8:   0%|          | 0/5000 [00:00<?, ?it/s]"
      ]
     },
     "metadata": {},
     "output_type": "display_data"
    },
    {
     "data": {
      "application/vnd.jupyter.widget-view+json": {
       "model_id": "090002eaa9a345cdb860fc0f2d43d64d",
       "version_major": 2,
       "version_minor": 0
      },
      "text/plain": [
       "run: 2, p: 0.7:   0%|          | 0/5000 [00:00<?, ?it/s]"
      ]
     },
     "metadata": {},
     "output_type": "display_data"
    },
    {
     "data": {
      "application/vnd.jupyter.widget-view+json": {
       "model_id": "75ef362103634fcabb4f59558581eae2",
       "version_major": 2,
       "version_minor": 0
      },
      "text/plain": [
       "run: 2, p: 0.6:   0%|          | 0/5000 [00:00<?, ?it/s]"
      ]
     },
     "metadata": {},
     "output_type": "display_data"
    },
    {
     "data": {
      "application/vnd.jupyter.widget-view+json": {
       "model_id": "ed53ec71cc4b437f8d76a38397ae35da",
       "version_major": 2,
       "version_minor": 0
      },
      "text/plain": [
       "run: 3, p: 0.9:   0%|          | 0/5000 [00:00<?, ?it/s]"
      ]
     },
     "metadata": {},
     "output_type": "display_data"
    },
    {
     "data": {
      "application/vnd.jupyter.widget-view+json": {
       "model_id": "6e745443d20a4870a6200d11dd09cbc5",
       "version_major": 2,
       "version_minor": 0
      },
      "text/plain": [
       "run: 3, p: 0.8:   0%|          | 0/5000 [00:00<?, ?it/s]"
      ]
     },
     "metadata": {},
     "output_type": "display_data"
    },
    {
     "data": {
      "application/vnd.jupyter.widget-view+json": {
       "model_id": "2a3b822b5ad64626a170f3b201b98e6a",
       "version_major": 2,
       "version_minor": 0
      },
      "text/plain": [
       "run: 3, p: 0.7:   0%|          | 0/5000 [00:00<?, ?it/s]"
      ]
     },
     "metadata": {},
     "output_type": "display_data"
    },
    {
     "data": {
      "application/vnd.jupyter.widget-view+json": {
       "model_id": "384fe75d1fee4ccbbaa0382205ef924d",
       "version_major": 2,
       "version_minor": 0
      },
      "text/plain": [
       "run: 3, p: 0.6:   0%|          | 0/5000 [00:00<?, ?it/s]"
      ]
     },
     "metadata": {},
     "output_type": "display_data"
    },
    {
     "data": {
      "application/vnd.jupyter.widget-view+json": {
       "model_id": "deedb7f67e1f4a63a3749e7a96487c21",
       "version_major": 2,
       "version_minor": 0
      },
      "text/plain": [
       "run: 4, p: 0.9:   0%|          | 0/5000 [00:00<?, ?it/s]"
      ]
     },
     "metadata": {},
     "output_type": "display_data"
    },
    {
     "data": {
      "application/vnd.jupyter.widget-view+json": {
       "model_id": "a83db47e33714a6eb95a553860629061",
       "version_major": 2,
       "version_minor": 0
      },
      "text/plain": [
       "run: 4, p: 0.8:   0%|          | 0/5000 [00:00<?, ?it/s]"
      ]
     },
     "metadata": {},
     "output_type": "display_data"
    },
    {
     "data": {
      "application/vnd.jupyter.widget-view+json": {
       "model_id": "5514a8a7acd04e13979a008a6afae7d8",
       "version_major": 2,
       "version_minor": 0
      },
      "text/plain": [
       "run: 4, p: 0.7:   0%|          | 0/5000 [00:00<?, ?it/s]"
      ]
     },
     "metadata": {},
     "output_type": "display_data"
    },
    {
     "data": {
      "application/vnd.jupyter.widget-view+json": {
       "model_id": "6c93887a25fa448ca76acc73078cdebf",
       "version_major": 2,
       "version_minor": 0
      },
      "text/plain": [
       "run: 4, p: 0.6:   0%|          | 0/5000 [00:00<?, ?it/s]"
      ]
     },
     "metadata": {},
     "output_type": "display_data"
    },
    {
     "data": {
      "application/vnd.jupyter.widget-view+json": {
       "model_id": "2659a8be49b7449a8f2e51e428c2bcbc",
       "version_major": 2,
       "version_minor": 0
      },
      "text/plain": [
       "run: 5, p: 0.9:   0%|          | 0/5000 [00:00<?, ?it/s]"
      ]
     },
     "metadata": {},
     "output_type": "display_data"
    },
    {
     "data": {
      "application/vnd.jupyter.widget-view+json": {
       "model_id": "b9e1fcf29544440ca3d1448abdccf4d9",
       "version_major": 2,
       "version_minor": 0
      },
      "text/plain": [
       "run: 5, p: 0.8:   0%|          | 0/5000 [00:00<?, ?it/s]"
      ]
     },
     "metadata": {},
     "output_type": "display_data"
    },
    {
     "data": {
      "application/vnd.jupyter.widget-view+json": {
       "model_id": "76fbe59701a94142a27d27e9aeff20d5",
       "version_major": 2,
       "version_minor": 0
      },
      "text/plain": [
       "run: 5, p: 0.7:   0%|          | 0/5000 [00:00<?, ?it/s]"
      ]
     },
     "metadata": {},
     "output_type": "display_data"
    },
    {
     "data": {
      "application/vnd.jupyter.widget-view+json": {
       "model_id": "d652c41bdb17401da4c2671e3466a243",
       "version_major": 2,
       "version_minor": 0
      },
      "text/plain": [
       "run: 5, p: 0.6:   0%|          | 0/5000 [00:00<?, ?it/s]"
      ]
     },
     "metadata": {},
     "output_type": "display_data"
    },
    {
     "data": {
      "application/vnd.jupyter.widget-view+json": {
       "model_id": "13fb7cac981541f283e535c55c9192e7",
       "version_major": 2,
       "version_minor": 0
      },
      "text/plain": [
       "run: 6, p: 0.9:   0%|          | 0/5000 [00:00<?, ?it/s]"
      ]
     },
     "metadata": {},
     "output_type": "display_data"
    },
    {
     "data": {
      "application/vnd.jupyter.widget-view+json": {
       "model_id": "fa020bb9b8e5485396058877fedbef36",
       "version_major": 2,
       "version_minor": 0
      },
      "text/plain": [
       "run: 6, p: 0.8:   0%|          | 0/5000 [00:00<?, ?it/s]"
      ]
     },
     "metadata": {},
     "output_type": "display_data"
    },
    {
     "data": {
      "application/vnd.jupyter.widget-view+json": {
       "model_id": "673cd3feaaf947248218c168ed4ca11c",
       "version_major": 2,
       "version_minor": 0
      },
      "text/plain": [
       "run: 6, p: 0.7:   0%|          | 0/5000 [00:00<?, ?it/s]"
      ]
     },
     "metadata": {},
     "output_type": "display_data"
    },
    {
     "data": {
      "application/vnd.jupyter.widget-view+json": {
       "model_id": "c53a10b6e7254609b0909f654c39611a",
       "version_major": 2,
       "version_minor": 0
      },
      "text/plain": [
       "run: 6, p: 0.6:   0%|          | 0/5000 [00:00<?, ?it/s]"
      ]
     },
     "metadata": {},
     "output_type": "display_data"
    },
    {
     "data": {
      "application/vnd.jupyter.widget-view+json": {
       "model_id": "bd0644fd2d7a4587a899bf0c5a89991f",
       "version_major": 2,
       "version_minor": 0
      },
      "text/plain": [
       "run: 7, p: 0.9:   0%|          | 0/5000 [00:00<?, ?it/s]"
      ]
     },
     "metadata": {},
     "output_type": "display_data"
    },
    {
     "data": {
      "application/vnd.jupyter.widget-view+json": {
       "model_id": "be5320ce6a9f44228d3424383e436f02",
       "version_major": 2,
       "version_minor": 0
      },
      "text/plain": [
       "run: 7, p: 0.8:   0%|          | 0/5000 [00:00<?, ?it/s]"
      ]
     },
     "metadata": {},
     "output_type": "display_data"
    },
    {
     "data": {
      "application/vnd.jupyter.widget-view+json": {
       "model_id": "d55790acf6454deaa2e06337ba214ed2",
       "version_major": 2,
       "version_minor": 0
      },
      "text/plain": [
       "run: 7, p: 0.7:   0%|          | 0/5000 [00:00<?, ?it/s]"
      ]
     },
     "metadata": {},
     "output_type": "display_data"
    },
    {
     "data": {
      "application/vnd.jupyter.widget-view+json": {
       "model_id": "2b206860bf6647a99156270ca87c5f6a",
       "version_major": 2,
       "version_minor": 0
      },
      "text/plain": [
       "run: 7, p: 0.6:   0%|          | 0/5000 [00:00<?, ?it/s]"
      ]
     },
     "metadata": {},
     "output_type": "display_data"
    },
    {
     "data": {
      "application/vnd.jupyter.widget-view+json": {
       "model_id": "dc007c27fe6f47f8a3e97e4075c829ff",
       "version_major": 2,
       "version_minor": 0
      },
      "text/plain": [
       "run: 8, p: 0.9:   0%|          | 0/5000 [00:00<?, ?it/s]"
      ]
     },
     "metadata": {},
     "output_type": "display_data"
    },
    {
     "data": {
      "application/vnd.jupyter.widget-view+json": {
       "model_id": "733f4134cc9640c2a12843584c17e92c",
       "version_major": 2,
       "version_minor": 0
      },
      "text/plain": [
       "run: 8, p: 0.8:   0%|          | 0/5000 [00:00<?, ?it/s]"
      ]
     },
     "metadata": {},
     "output_type": "display_data"
    },
    {
     "data": {
      "application/vnd.jupyter.widget-view+json": {
       "model_id": "12c9021959ee4a74b5d323491669915d",
       "version_major": 2,
       "version_minor": 0
      },
      "text/plain": [
       "run: 8, p: 0.7:   0%|          | 0/5000 [00:00<?, ?it/s]"
      ]
     },
     "metadata": {},
     "output_type": "display_data"
    },
    {
     "data": {
      "application/vnd.jupyter.widget-view+json": {
       "model_id": "18793943e49f4d2c8e52127bb933fa3e",
       "version_major": 2,
       "version_minor": 0
      },
      "text/plain": [
       "run: 8, p: 0.6:   0%|          | 0/5000 [00:00<?, ?it/s]"
      ]
     },
     "metadata": {},
     "output_type": "display_data"
    },
    {
     "data": {
      "application/vnd.jupyter.widget-view+json": {
       "model_id": "da1898f185da41cea3f7925e2b23ddb5",
       "version_major": 2,
       "version_minor": 0
      },
      "text/plain": [
       "run: 9, p: 0.9:   0%|          | 0/5000 [00:00<?, ?it/s]"
      ]
     },
     "metadata": {},
     "output_type": "display_data"
    },
    {
     "data": {
      "application/vnd.jupyter.widget-view+json": {
       "model_id": "ea321a6ce7a24241a2511f1b32ec28fe",
       "version_major": 2,
       "version_minor": 0
      },
      "text/plain": [
       "run: 9, p: 0.8:   0%|          | 0/5000 [00:00<?, ?it/s]"
      ]
     },
     "metadata": {},
     "output_type": "display_data"
    },
    {
     "data": {
      "application/vnd.jupyter.widget-view+json": {
       "model_id": "6928e603282a431c940059fc1d0865b8",
       "version_major": 2,
       "version_minor": 0
      },
      "text/plain": [
       "run: 9, p: 0.7:   0%|          | 0/5000 [00:00<?, ?it/s]"
      ]
     },
     "metadata": {},
     "output_type": "display_data"
    },
    {
     "data": {
      "application/vnd.jupyter.widget-view+json": {
       "model_id": "660d0bdfed614eddbbb7f32a7d94fb08",
       "version_major": 2,
       "version_minor": 0
      },
      "text/plain": [
       "run: 9, p: 0.6:   0%|          | 0/5000 [00:00<?, ?it/s]"
      ]
     },
     "metadata": {},
     "output_type": "display_data"
    },
    {
     "data": {
      "application/vnd.jupyter.widget-view+json": {
       "model_id": "714eb494fbee44ae88faa753715dccc1",
       "version_major": 2,
       "version_minor": 0
      },
      "text/plain": [
       "run: 10, p: 0.9:   0%|          | 0/5000 [00:00<?, ?it/s]"
      ]
     },
     "metadata": {},
     "output_type": "display_data"
    },
    {
     "data": {
      "application/vnd.jupyter.widget-view+json": {
       "model_id": "04feb0cf0f8943308906574f5ffdf71d",
       "version_major": 2,
       "version_minor": 0
      },
      "text/plain": [
       "run: 10, p: 0.8:   0%|          | 0/5000 [00:00<?, ?it/s]"
      ]
     },
     "metadata": {},
     "output_type": "display_data"
    },
    {
     "data": {
      "application/vnd.jupyter.widget-view+json": {
       "model_id": "4f194181e7584f41b9b7306bcfe41587",
       "version_major": 2,
       "version_minor": 0
      },
      "text/plain": [
       "run: 10, p: 0.7:   0%|          | 0/5000 [00:00<?, ?it/s]"
      ]
     },
     "metadata": {},
     "output_type": "display_data"
    },
    {
     "data": {
      "application/vnd.jupyter.widget-view+json": {
       "model_id": "e78f0466608342bb821a0cf967ab5cba",
       "version_major": 2,
       "version_minor": 0
      },
      "text/plain": [
       "run: 10, p: 0.6:   0%|          | 0/5000 [00:00<?, ?it/s]"
      ]
     },
     "metadata": {},
     "output_type": "display_data"
    },
    {
     "data": {
      "application/vnd.jupyter.widget-view+json": {
       "model_id": "1aa7acdc22a94cd298965be76f778055",
       "version_major": 2,
       "version_minor": 0
      },
      "text/plain": [
       "run: 11, p: 0.9:   0%|          | 0/5000 [00:00<?, ?it/s]"
      ]
     },
     "metadata": {},
     "output_type": "display_data"
    },
    {
     "data": {
      "application/vnd.jupyter.widget-view+json": {
       "model_id": "4916b170f7f64b60ad38bbbbb70bd2d2",
       "version_major": 2,
       "version_minor": 0
      },
      "text/plain": [
       "run: 11, p: 0.8:   0%|          | 0/5000 [00:00<?, ?it/s]"
      ]
     },
     "metadata": {},
     "output_type": "display_data"
    },
    {
     "data": {
      "application/vnd.jupyter.widget-view+json": {
       "model_id": "d8286c23b3cb4927870e6d00cfb7a234",
       "version_major": 2,
       "version_minor": 0
      },
      "text/plain": [
       "run: 11, p: 0.7:   0%|          | 0/5000 [00:00<?, ?it/s]"
      ]
     },
     "metadata": {},
     "output_type": "display_data"
    },
    {
     "data": {
      "application/vnd.jupyter.widget-view+json": {
       "model_id": "dfdfa93ac9ab4308a969903831b4b638",
       "version_major": 2,
       "version_minor": 0
      },
      "text/plain": [
       "run: 11, p: 0.6:   0%|          | 0/5000 [00:00<?, ?it/s]"
      ]
     },
     "metadata": {},
     "output_type": "display_data"
    },
    {
     "data": {
      "application/vnd.jupyter.widget-view+json": {
       "model_id": "598a0a1bbba049f3b1d58e2f3f2f0fd5",
       "version_major": 2,
       "version_minor": 0
      },
      "text/plain": [
       "run: 12, p: 0.9:   0%|          | 0/5000 [00:00<?, ?it/s]"
      ]
     },
     "metadata": {},
     "output_type": "display_data"
    },
    {
     "data": {
      "application/vnd.jupyter.widget-view+json": {
       "model_id": "43b606aaaef54c0294330c630bcca9a2",
       "version_major": 2,
       "version_minor": 0
      },
      "text/plain": [
       "run: 12, p: 0.8:   0%|          | 0/5000 [00:00<?, ?it/s]"
      ]
     },
     "metadata": {},
     "output_type": "display_data"
    },
    {
     "data": {
      "application/vnd.jupyter.widget-view+json": {
       "model_id": "230b3db16ff948f5b3feb61ece8003c0",
       "version_major": 2,
       "version_minor": 0
      },
      "text/plain": [
       "run: 12, p: 0.7:   0%|          | 0/5000 [00:00<?, ?it/s]"
      ]
     },
     "metadata": {},
     "output_type": "display_data"
    },
    {
     "data": {
      "application/vnd.jupyter.widget-view+json": {
       "model_id": "fad0c50c291d4149a64f177cbc88bd75",
       "version_major": 2,
       "version_minor": 0
      },
      "text/plain": [
       "run: 12, p: 0.6:   0%|          | 0/5000 [00:00<?, ?it/s]"
      ]
     },
     "metadata": {},
     "output_type": "display_data"
    },
    {
     "data": {
      "application/vnd.jupyter.widget-view+json": {
       "model_id": "08afa417435f4220bddca050818f4c76",
       "version_major": 2,
       "version_minor": 0
      },
      "text/plain": [
       "run: 13, p: 0.9:   0%|          | 0/5000 [00:00<?, ?it/s]"
      ]
     },
     "metadata": {},
     "output_type": "display_data"
    },
    {
     "data": {
      "application/vnd.jupyter.widget-view+json": {
       "model_id": "c4197a8bbb1542de803f1e4618419582",
       "version_major": 2,
       "version_minor": 0
      },
      "text/plain": [
       "run: 13, p: 0.8:   0%|          | 0/5000 [00:00<?, ?it/s]"
      ]
     },
     "metadata": {},
     "output_type": "display_data"
    },
    {
     "data": {
      "application/vnd.jupyter.widget-view+json": {
       "model_id": "79406d7a5c40445aa0ea60447c0a0e6e",
       "version_major": 2,
       "version_minor": 0
      },
      "text/plain": [
       "run: 13, p: 0.7:   0%|          | 0/5000 [00:00<?, ?it/s]"
      ]
     },
     "metadata": {},
     "output_type": "display_data"
    },
    {
     "data": {
      "application/vnd.jupyter.widget-view+json": {
       "model_id": "89a9f6d518424cdaa8fc25c34ad960c7",
       "version_major": 2,
       "version_minor": 0
      },
      "text/plain": [
       "run: 13, p: 0.6:   0%|          | 0/5000 [00:00<?, ?it/s]"
      ]
     },
     "metadata": {},
     "output_type": "display_data"
    },
    {
     "data": {
      "application/vnd.jupyter.widget-view+json": {
       "model_id": "84612f428a1b45d088970c0b3733f875",
       "version_major": 2,
       "version_minor": 0
      },
      "text/plain": [
       "run: 14, p: 0.9:   0%|          | 0/5000 [00:00<?, ?it/s]"
      ]
     },
     "metadata": {},
     "output_type": "display_data"
    },
    {
     "data": {
      "application/vnd.jupyter.widget-view+json": {
       "model_id": "122df542e10240a3bd0b5b65cdf7b83c",
       "version_major": 2,
       "version_minor": 0
      },
      "text/plain": [
       "run: 14, p: 0.8:   0%|          | 0/5000 [00:00<?, ?it/s]"
      ]
     },
     "metadata": {},
     "output_type": "display_data"
    },
    {
     "data": {
      "application/vnd.jupyter.widget-view+json": {
       "model_id": "5c9106ec6ed941668894898bb9bb09d2",
       "version_major": 2,
       "version_minor": 0
      },
      "text/plain": [
       "run: 14, p: 0.7:   0%|          | 0/5000 [00:00<?, ?it/s]"
      ]
     },
     "metadata": {},
     "output_type": "display_data"
    },
    {
     "data": {
      "application/vnd.jupyter.widget-view+json": {
       "model_id": "e2076db07c364be29955092019202bb3",
       "version_major": 2,
       "version_minor": 0
      },
      "text/plain": [
       "run: 14, p: 0.6:   0%|          | 0/5000 [00:00<?, ?it/s]"
      ]
     },
     "metadata": {},
     "output_type": "display_data"
    },
    {
     "data": {
      "application/vnd.jupyter.widget-view+json": {
       "model_id": "2a51f31f0fbd4c5293f5d07e56200af0",
       "version_major": 2,
       "version_minor": 0
      },
      "text/plain": [
       "run: 15, p: 0.9:   0%|          | 0/5000 [00:00<?, ?it/s]"
      ]
     },
     "metadata": {},
     "output_type": "display_data"
    },
    {
     "data": {
      "application/vnd.jupyter.widget-view+json": {
       "model_id": "775aef44be35499fa86d1e657943cb67",
       "version_major": 2,
       "version_minor": 0
      },
      "text/plain": [
       "run: 15, p: 0.8:   0%|          | 0/5000 [00:00<?, ?it/s]"
      ]
     },
     "metadata": {},
     "output_type": "display_data"
    },
    {
     "data": {
      "application/vnd.jupyter.widget-view+json": {
       "model_id": "124f2d54f8c446cb87a9872ba53a9eab",
       "version_major": 2,
       "version_minor": 0
      },
      "text/plain": [
       "run: 15, p: 0.7:   0%|          | 0/5000 [00:00<?, ?it/s]"
      ]
     },
     "metadata": {},
     "output_type": "display_data"
    },
    {
     "data": {
      "application/vnd.jupyter.widget-view+json": {
       "model_id": "f563db749cbc48f4b8dbdd6b04b773dc",
       "version_major": 2,
       "version_minor": 0
      },
      "text/plain": [
       "run: 15, p: 0.6:   0%|          | 0/5000 [00:00<?, ?it/s]"
      ]
     },
     "metadata": {},
     "output_type": "display_data"
    },
    {
     "data": {
      "application/vnd.jupyter.widget-view+json": {
       "model_id": "1e3075af1c7145f2a23b943312ca9576",
       "version_major": 2,
       "version_minor": 0
      },
      "text/plain": [
       "run: 16, p: 0.9:   0%|          | 0/5000 [00:00<?, ?it/s]"
      ]
     },
     "metadata": {},
     "output_type": "display_data"
    },
    {
     "data": {
      "application/vnd.jupyter.widget-view+json": {
       "model_id": "a5964badb2c544388e0c50f3be1292fc",
       "version_major": 2,
       "version_minor": 0
      },
      "text/plain": [
       "run: 16, p: 0.8:   0%|          | 0/5000 [00:00<?, ?it/s]"
      ]
     },
     "metadata": {},
     "output_type": "display_data"
    },
    {
     "data": {
      "application/vnd.jupyter.widget-view+json": {
       "model_id": "abeffd7274ec45db9fcab38296aa46cc",
       "version_major": 2,
       "version_minor": 0
      },
      "text/plain": [
       "run: 16, p: 0.7:   0%|          | 0/5000 [00:00<?, ?it/s]"
      ]
     },
     "metadata": {},
     "output_type": "display_data"
    },
    {
     "data": {
      "application/vnd.jupyter.widget-view+json": {
       "model_id": "9fcf2aac43b44a9490edcc58f6dcb65c",
       "version_major": 2,
       "version_minor": 0
      },
      "text/plain": [
       "run: 16, p: 0.6:   0%|          | 0/5000 [00:00<?, ?it/s]"
      ]
     },
     "metadata": {},
     "output_type": "display_data"
    },
    {
     "data": {
      "application/vnd.jupyter.widget-view+json": {
       "model_id": "f70e7be64c1144b99a094cebc7561a23",
       "version_major": 2,
       "version_minor": 0
      },
      "text/plain": [
       "run: 17, p: 0.9:   0%|          | 0/5000 [00:00<?, ?it/s]"
      ]
     },
     "metadata": {},
     "output_type": "display_data"
    },
    {
     "data": {
      "application/vnd.jupyter.widget-view+json": {
       "model_id": "a0807b12053445178277729fef955247",
       "version_major": 2,
       "version_minor": 0
      },
      "text/plain": [
       "run: 17, p: 0.8:   0%|          | 0/5000 [00:00<?, ?it/s]"
      ]
     },
     "metadata": {},
     "output_type": "display_data"
    },
    {
     "data": {
      "application/vnd.jupyter.widget-view+json": {
       "model_id": "b23709f64a97437490d7ab130732748e",
       "version_major": 2,
       "version_minor": 0
      },
      "text/plain": [
       "run: 17, p: 0.7:   0%|          | 0/5000 [00:00<?, ?it/s]"
      ]
     },
     "metadata": {},
     "output_type": "display_data"
    },
    {
     "data": {
      "application/vnd.jupyter.widget-view+json": {
       "model_id": "4efda49cea814ab1865331801d0f5493",
       "version_major": 2,
       "version_minor": 0
      },
      "text/plain": [
       "run: 17, p: 0.6:   0%|          | 0/5000 [00:00<?, ?it/s]"
      ]
     },
     "metadata": {},
     "output_type": "display_data"
    },
    {
     "data": {
      "application/vnd.jupyter.widget-view+json": {
       "model_id": "d34260aa63054b18a0ba1fbf2f6852fe",
       "version_major": 2,
       "version_minor": 0
      },
      "text/plain": [
       "run: 18, p: 0.9:   0%|          | 0/5000 [00:00<?, ?it/s]"
      ]
     },
     "metadata": {},
     "output_type": "display_data"
    },
    {
     "data": {
      "application/vnd.jupyter.widget-view+json": {
       "model_id": "166ac770c124441796f9ee87f79fe1d3",
       "version_major": 2,
       "version_minor": 0
      },
      "text/plain": [
       "run: 18, p: 0.8:   0%|          | 0/5000 [00:00<?, ?it/s]"
      ]
     },
     "metadata": {},
     "output_type": "display_data"
    },
    {
     "data": {
      "application/vnd.jupyter.widget-view+json": {
       "model_id": "17763cb195e84d228d0958260e880231",
       "version_major": 2,
       "version_minor": 0
      },
      "text/plain": [
       "run: 18, p: 0.7:   0%|          | 0/5000 [00:00<?, ?it/s]"
      ]
     },
     "metadata": {},
     "output_type": "display_data"
    },
    {
     "data": {
      "application/vnd.jupyter.widget-view+json": {
       "model_id": "e249950f3127487188e7b7687f1600de",
       "version_major": 2,
       "version_minor": 0
      },
      "text/plain": [
       "run: 18, p: 0.6:   0%|          | 0/5000 [00:00<?, ?it/s]"
      ]
     },
     "metadata": {},
     "output_type": "display_data"
    },
    {
     "data": {
      "application/vnd.jupyter.widget-view+json": {
       "model_id": "27f01d9f6f364116846d35b6ffab36c8",
       "version_major": 2,
       "version_minor": 0
      },
      "text/plain": [
       "run: 19, p: 0.9:   0%|          | 0/5000 [00:00<?, ?it/s]"
      ]
     },
     "metadata": {},
     "output_type": "display_data"
    },
    {
     "data": {
      "application/vnd.jupyter.widget-view+json": {
       "model_id": "a2c3b65600ef47cd9937df59e426ea98",
       "version_major": 2,
       "version_minor": 0
      },
      "text/plain": [
       "run: 19, p: 0.8:   0%|          | 0/5000 [00:00<?, ?it/s]"
      ]
     },
     "metadata": {},
     "output_type": "display_data"
    },
    {
     "data": {
      "application/vnd.jupyter.widget-view+json": {
       "model_id": "d969e9ee20c64d96ae4a6f03f14b36ec",
       "version_major": 2,
       "version_minor": 0
      },
      "text/plain": [
       "run: 19, p: 0.7:   0%|          | 0/5000 [00:00<?, ?it/s]"
      ]
     },
     "metadata": {},
     "output_type": "display_data"
    },
    {
     "data": {
      "application/vnd.jupyter.widget-view+json": {
       "model_id": "c681f1c295784b4ea014be5962f82767",
       "version_major": 2,
       "version_minor": 0
      },
      "text/plain": [
       "run: 19, p: 0.6:   0%|          | 0/5000 [00:00<?, ?it/s]"
      ]
     },
     "metadata": {},
     "output_type": "display_data"
    },
    {
     "data": {
      "application/vnd.jupyter.widget-view+json": {
       "model_id": "237b6f9e819041a7bfe136d1a1a4b7fa",
       "version_major": 2,
       "version_minor": 0
      },
      "text/plain": [
       "run: 20, p: 0.9:   0%|          | 0/5000 [00:00<?, ?it/s]"
      ]
     },
     "metadata": {},
     "output_type": "display_data"
    },
    {
     "data": {
      "application/vnd.jupyter.widget-view+json": {
       "model_id": "d6b2797448ac4a1fb9fc54fab9db327c",
       "version_major": 2,
       "version_minor": 0
      },
      "text/plain": [
       "run: 20, p: 0.8:   0%|          | 0/5000 [00:00<?, ?it/s]"
      ]
     },
     "metadata": {},
     "output_type": "display_data"
    },
    {
     "data": {
      "application/vnd.jupyter.widget-view+json": {
       "model_id": "971e8061afa24e81a0ff19894dff0f53",
       "version_major": 2,
       "version_minor": 0
      },
      "text/plain": [
       "run: 20, p: 0.7:   0%|          | 0/5000 [00:00<?, ?it/s]"
      ]
     },
     "metadata": {},
     "output_type": "display_data"
    },
    {
     "data": {
      "application/vnd.jupyter.widget-view+json": {
       "model_id": "e933f8ad499945318f50e055a94a1415",
       "version_major": 2,
       "version_minor": 0
      },
      "text/plain": [
       "run: 20, p: 0.6:   0%|          | 0/5000 [00:00<?, ?it/s]"
      ]
     },
     "metadata": {},
     "output_type": "display_data"
    },
    {
     "data": {
      "application/vnd.jupyter.widget-view+json": {
       "model_id": "5eb8fd4f9a51448a9742bfd613142ce9",
       "version_major": 2,
       "version_minor": 0
      },
      "text/plain": [
       "run: 21, p: 0.9:   0%|          | 0/5000 [00:00<?, ?it/s]"
      ]
     },
     "metadata": {},
     "output_type": "display_data"
    },
    {
     "data": {
      "application/vnd.jupyter.widget-view+json": {
       "model_id": "c61b9a0a4cbc4001abd2fa91ee808b4d",
       "version_major": 2,
       "version_minor": 0
      },
      "text/plain": [
       "run: 21, p: 0.8:   0%|          | 0/5000 [00:00<?, ?it/s]"
      ]
     },
     "metadata": {},
     "output_type": "display_data"
    },
    {
     "data": {
      "application/vnd.jupyter.widget-view+json": {
       "model_id": "fcd479a9b9f34248a61adc145d5a0554",
       "version_major": 2,
       "version_minor": 0
      },
      "text/plain": [
       "run: 21, p: 0.7:   0%|          | 0/5000 [00:00<?, ?it/s]"
      ]
     },
     "metadata": {},
     "output_type": "display_data"
    },
    {
     "data": {
      "application/vnd.jupyter.widget-view+json": {
       "model_id": "7d9c8080156f4f4fbf1d4772aa214c0c",
       "version_major": 2,
       "version_minor": 0
      },
      "text/plain": [
       "run: 21, p: 0.6:   0%|          | 0/5000 [00:00<?, ?it/s]"
      ]
     },
     "metadata": {},
     "output_type": "display_data"
    },
    {
     "data": {
      "application/vnd.jupyter.widget-view+json": {
       "model_id": "d07c1c1e820f470db5f6e595a46e0695",
       "version_major": 2,
       "version_minor": 0
      },
      "text/plain": [
       "run: 22, p: 0.9:   0%|          | 0/5000 [00:00<?, ?it/s]"
      ]
     },
     "metadata": {},
     "output_type": "display_data"
    },
    {
     "data": {
      "application/vnd.jupyter.widget-view+json": {
       "model_id": "63bd6074cec1430390af50504724f5c6",
       "version_major": 2,
       "version_minor": 0
      },
      "text/plain": [
       "run: 22, p: 0.8:   0%|          | 0/5000 [00:00<?, ?it/s]"
      ]
     },
     "metadata": {},
     "output_type": "display_data"
    },
    {
     "data": {
      "application/vnd.jupyter.widget-view+json": {
       "model_id": "d147c9aefd5f4aebbfcf03bbffc2524f",
       "version_major": 2,
       "version_minor": 0
      },
      "text/plain": [
       "run: 22, p: 0.7:   0%|          | 0/5000 [00:00<?, ?it/s]"
      ]
     },
     "metadata": {},
     "output_type": "display_data"
    },
    {
     "data": {
      "application/vnd.jupyter.widget-view+json": {
       "model_id": "808af3b7d1e045d6a3c34c268dd347f5",
       "version_major": 2,
       "version_minor": 0
      },
      "text/plain": [
       "run: 22, p: 0.6:   0%|          | 0/5000 [00:00<?, ?it/s]"
      ]
     },
     "metadata": {},
     "output_type": "display_data"
    },
    {
     "data": {
      "application/vnd.jupyter.widget-view+json": {
       "model_id": "8ab655c2438e46d6a9faf8b549bee747",
       "version_major": 2,
       "version_minor": 0
      },
      "text/plain": [
       "run: 23, p: 0.9:   0%|          | 0/5000 [00:00<?, ?it/s]"
      ]
     },
     "metadata": {},
     "output_type": "display_data"
    },
    {
     "data": {
      "application/vnd.jupyter.widget-view+json": {
       "model_id": "053c5c5a1bc245debcf7b929c567bbce",
       "version_major": 2,
       "version_minor": 0
      },
      "text/plain": [
       "run: 23, p: 0.8:   0%|          | 0/5000 [00:00<?, ?it/s]"
      ]
     },
     "metadata": {},
     "output_type": "display_data"
    },
    {
     "data": {
      "application/vnd.jupyter.widget-view+json": {
       "model_id": "0c4555c010464f5bb1557f1b450547dc",
       "version_major": 2,
       "version_minor": 0
      },
      "text/plain": [
       "run: 23, p: 0.7:   0%|          | 0/5000 [00:00<?, ?it/s]"
      ]
     },
     "metadata": {},
     "output_type": "display_data"
    },
    {
     "data": {
      "application/vnd.jupyter.widget-view+json": {
       "model_id": "01629d89a1cd4cf685b92d23e0de97e3",
       "version_major": 2,
       "version_minor": 0
      },
      "text/plain": [
       "run: 23, p: 0.6:   0%|          | 0/5000 [00:00<?, ?it/s]"
      ]
     },
     "metadata": {},
     "output_type": "display_data"
    },
    {
     "data": {
      "application/vnd.jupyter.widget-view+json": {
       "model_id": "97a46f9095b94ce6acf84385205da460",
       "version_major": 2,
       "version_minor": 0
      },
      "text/plain": [
       "run: 24, p: 0.9:   0%|          | 0/5000 [00:00<?, ?it/s]"
      ]
     },
     "metadata": {},
     "output_type": "display_data"
    },
    {
     "data": {
      "application/vnd.jupyter.widget-view+json": {
       "model_id": "cd86948f37a4442386150fddc8d401e7",
       "version_major": 2,
       "version_minor": 0
      },
      "text/plain": [
       "run: 24, p: 0.8:   0%|          | 0/5000 [00:00<?, ?it/s]"
      ]
     },
     "metadata": {},
     "output_type": "display_data"
    },
    {
     "data": {
      "application/vnd.jupyter.widget-view+json": {
       "model_id": "42411f4f22c64d47bc63182007787435",
       "version_major": 2,
       "version_minor": 0
      },
      "text/plain": [
       "run: 24, p: 0.7:   0%|          | 0/5000 [00:00<?, ?it/s]"
      ]
     },
     "metadata": {},
     "output_type": "display_data"
    },
    {
     "data": {
      "application/vnd.jupyter.widget-view+json": {
       "model_id": "f3b30dd04ae44a019e457e436bb3f94c",
       "version_major": 2,
       "version_minor": 0
      },
      "text/plain": [
       "run: 24, p: 0.6:   0%|          | 0/5000 [00:00<?, ?it/s]"
      ]
     },
     "metadata": {},
     "output_type": "display_data"
    },
    {
     "data": {
      "application/vnd.jupyter.widget-view+json": {
       "model_id": "b55a46e2cc484b21967c4199ffa5bfc2",
       "version_major": 2,
       "version_minor": 0
      },
      "text/plain": [
       "run: 25, p: 0.9:   0%|          | 0/5000 [00:00<?, ?it/s]"
      ]
     },
     "metadata": {},
     "output_type": "display_data"
    },
    {
     "data": {
      "application/vnd.jupyter.widget-view+json": {
       "model_id": "0de76cf8af404214a41db450eb615e0b",
       "version_major": 2,
       "version_minor": 0
      },
      "text/plain": [
       "run: 25, p: 0.8:   0%|          | 0/5000 [00:00<?, ?it/s]"
      ]
     },
     "metadata": {},
     "output_type": "display_data"
    },
    {
     "data": {
      "application/vnd.jupyter.widget-view+json": {
       "model_id": "e78dbae544374ac1ba998010a2f895ae",
       "version_major": 2,
       "version_minor": 0
      },
      "text/plain": [
       "run: 25, p: 0.7:   0%|          | 0/5000 [00:00<?, ?it/s]"
      ]
     },
     "metadata": {},
     "output_type": "display_data"
    },
    {
     "data": {
      "application/vnd.jupyter.widget-view+json": {
       "model_id": "1fc4c44ef95042648ab4f43711a23b0d",
       "version_major": 2,
       "version_minor": 0
      },
      "text/plain": [
       "run: 25, p: 0.6:   0%|          | 0/5000 [00:00<?, ?it/s]"
      ]
     },
     "metadata": {},
     "output_type": "display_data"
    },
    {
     "data": {
      "application/vnd.jupyter.widget-view+json": {
       "model_id": "fcee56af97304e70b08caa95a939e0fb",
       "version_major": 2,
       "version_minor": 0
      },
      "text/plain": [
       "run: 26, p: 0.9:   0%|          | 0/5000 [00:00<?, ?it/s]"
      ]
     },
     "metadata": {},
     "output_type": "display_data"
    },
    {
     "data": {
      "application/vnd.jupyter.widget-view+json": {
       "model_id": "42ac5d84e127485c98257c4ca77cdba8",
       "version_major": 2,
       "version_minor": 0
      },
      "text/plain": [
       "run: 26, p: 0.8:   0%|          | 0/5000 [00:00<?, ?it/s]"
      ]
     },
     "metadata": {},
     "output_type": "display_data"
    },
    {
     "data": {
      "application/vnd.jupyter.widget-view+json": {
       "model_id": "c2511e5439c34ea28479a59f55fcfd79",
       "version_major": 2,
       "version_minor": 0
      },
      "text/plain": [
       "run: 26, p: 0.7:   0%|          | 0/5000 [00:00<?, ?it/s]"
      ]
     },
     "metadata": {},
     "output_type": "display_data"
    },
    {
     "data": {
      "application/vnd.jupyter.widget-view+json": {
       "model_id": "8e6cac12acde467591720761bc103c21",
       "version_major": 2,
       "version_minor": 0
      },
      "text/plain": [
       "run: 26, p: 0.6:   0%|          | 0/5000 [00:00<?, ?it/s]"
      ]
     },
     "metadata": {},
     "output_type": "display_data"
    },
    {
     "data": {
      "application/vnd.jupyter.widget-view+json": {
       "model_id": "e694f244bb774a85b65081c24aaff99d",
       "version_major": 2,
       "version_minor": 0
      },
      "text/plain": [
       "run: 27, p: 0.9:   0%|          | 0/5000 [00:00<?, ?it/s]"
      ]
     },
     "metadata": {},
     "output_type": "display_data"
    },
    {
     "data": {
      "application/vnd.jupyter.widget-view+json": {
       "model_id": "28506fcfc8164620b04f6a8dacc60cb2",
       "version_major": 2,
       "version_minor": 0
      },
      "text/plain": [
       "run: 27, p: 0.8:   0%|          | 0/5000 [00:00<?, ?it/s]"
      ]
     },
     "metadata": {},
     "output_type": "display_data"
    },
    {
     "data": {
      "application/vnd.jupyter.widget-view+json": {
       "model_id": "092e3e18bd854467a31f98ab20543297",
       "version_major": 2,
       "version_minor": 0
      },
      "text/plain": [
       "run: 27, p: 0.7:   0%|          | 0/5000 [00:00<?, ?it/s]"
      ]
     },
     "metadata": {},
     "output_type": "display_data"
    },
    {
     "data": {
      "application/vnd.jupyter.widget-view+json": {
       "model_id": "72a30a1a451740efa3aec1754d40816c",
       "version_major": 2,
       "version_minor": 0
      },
      "text/plain": [
       "run: 27, p: 0.6:   0%|          | 0/5000 [00:00<?, ?it/s]"
      ]
     },
     "metadata": {},
     "output_type": "display_data"
    },
    {
     "data": {
      "application/vnd.jupyter.widget-view+json": {
       "model_id": "7b9c4a37815d4aefa62794713b64ae09",
       "version_major": 2,
       "version_minor": 0
      },
      "text/plain": [
       "run: 28, p: 0.9:   0%|          | 0/5000 [00:00<?, ?it/s]"
      ]
     },
     "metadata": {},
     "output_type": "display_data"
    },
    {
     "data": {
      "application/vnd.jupyter.widget-view+json": {
       "model_id": "13bccea5fb864dbb9e55f1e9364c4bf1",
       "version_major": 2,
       "version_minor": 0
      },
      "text/plain": [
       "run: 28, p: 0.8:   0%|          | 0/5000 [00:00<?, ?it/s]"
      ]
     },
     "metadata": {},
     "output_type": "display_data"
    },
    {
     "data": {
      "application/vnd.jupyter.widget-view+json": {
       "model_id": "3688059fd12841a58b0a79b95c4796c8",
       "version_major": 2,
       "version_minor": 0
      },
      "text/plain": [
       "run: 28, p: 0.7:   0%|          | 0/5000 [00:00<?, ?it/s]"
      ]
     },
     "metadata": {},
     "output_type": "display_data"
    },
    {
     "data": {
      "application/vnd.jupyter.widget-view+json": {
       "model_id": "f538fa1701c0496f945a3135dfa8db95",
       "version_major": 2,
       "version_minor": 0
      },
      "text/plain": [
       "run: 28, p: 0.6:   0%|          | 0/5000 [00:00<?, ?it/s]"
      ]
     },
     "metadata": {},
     "output_type": "display_data"
    },
    {
     "data": {
      "application/vnd.jupyter.widget-view+json": {
       "model_id": "088e4801e2524167bf3ae7242be69efa",
       "version_major": 2,
       "version_minor": 0
      },
      "text/plain": [
       "run: 29, p: 0.9:   0%|          | 0/5000 [00:00<?, ?it/s]"
      ]
     },
     "metadata": {},
     "output_type": "display_data"
    },
    {
     "data": {
      "application/vnd.jupyter.widget-view+json": {
       "model_id": "b3fb796800f648e4af7319dc989f519c",
       "version_major": 2,
       "version_minor": 0
      },
      "text/plain": [
       "run: 29, p: 0.8:   0%|          | 0/5000 [00:00<?, ?it/s]"
      ]
     },
     "metadata": {},
     "output_type": "display_data"
    },
    {
     "data": {
      "application/vnd.jupyter.widget-view+json": {
       "model_id": "4c85ace89eef4186a26533814d9cccc7",
       "version_major": 2,
       "version_minor": 0
      },
      "text/plain": [
       "run: 29, p: 0.7:   0%|          | 0/5000 [00:00<?, ?it/s]"
      ]
     },
     "metadata": {},
     "output_type": "display_data"
    },
    {
     "data": {
      "application/vnd.jupyter.widget-view+json": {
       "model_id": "b6a6ab9d13c14f6ab86038c6b72248b0",
       "version_major": 2,
       "version_minor": 0
      },
      "text/plain": [
       "run: 29, p: 0.6:   0%|          | 0/5000 [00:00<?, ?it/s]"
      ]
     },
     "metadata": {},
     "output_type": "display_data"
    },
    {
     "data": {
      "application/vnd.jupyter.widget-view+json": {
       "model_id": "45cc3bf8fba447928486b087b8dbae6b",
       "version_major": 2,
       "version_minor": 0
      },
      "text/plain": [
       "run: 30, p: 0.9:   0%|          | 0/5000 [00:00<?, ?it/s]"
      ]
     },
     "metadata": {},
     "output_type": "display_data"
    },
    {
     "data": {
      "application/vnd.jupyter.widget-view+json": {
       "model_id": "b6627cd8db5b46ef93a44074cc3bf223",
       "version_major": 2,
       "version_minor": 0
      },
      "text/plain": [
       "run: 30, p: 0.8:   0%|          | 0/5000 [00:00<?, ?it/s]"
      ]
     },
     "metadata": {},
     "output_type": "display_data"
    },
    {
     "data": {
      "application/vnd.jupyter.widget-view+json": {
       "model_id": "9616ecf39a3548ad877032e9b92f171c",
       "version_major": 2,
       "version_minor": 0
      },
      "text/plain": [
       "run: 30, p: 0.7:   0%|          | 0/5000 [00:00<?, ?it/s]"
      ]
     },
     "metadata": {},
     "output_type": "display_data"
    },
    {
     "data": {
      "application/vnd.jupyter.widget-view+json": {
       "model_id": "82211461aab44a4fb773eba221f10151",
       "version_major": 2,
       "version_minor": 0
      },
      "text/plain": [
       "run: 30, p: 0.6:   0%|          | 0/5000 [00:00<?, ?it/s]"
      ]
     },
     "metadata": {},
     "output_type": "display_data"
    },
    {
     "data": {
      "application/vnd.jupyter.widget-view+json": {
       "model_id": "de695168ec40457db4bd6b27359b297a",
       "version_major": 2,
       "version_minor": 0
      },
      "text/plain": [
       "run: 31, p: 0.9:   0%|          | 0/5000 [00:00<?, ?it/s]"
      ]
     },
     "metadata": {},
     "output_type": "display_data"
    },
    {
     "data": {
      "application/vnd.jupyter.widget-view+json": {
       "model_id": "f4e6c2af49354c668057a4ea13e65ca3",
       "version_major": 2,
       "version_minor": 0
      },
      "text/plain": [
       "run: 31, p: 0.8:   0%|          | 0/5000 [00:00<?, ?it/s]"
      ]
     },
     "metadata": {},
     "output_type": "display_data"
    },
    {
     "data": {
      "application/vnd.jupyter.widget-view+json": {
       "model_id": "817c39d3220648c09463b6377ca841e4",
       "version_major": 2,
       "version_minor": 0
      },
      "text/plain": [
       "run: 31, p: 0.7:   0%|          | 0/5000 [00:00<?, ?it/s]"
      ]
     },
     "metadata": {},
     "output_type": "display_data"
    },
    {
     "data": {
      "application/vnd.jupyter.widget-view+json": {
       "model_id": "7ba22b01092e4ea8b31bd7000f1bf951",
       "version_major": 2,
       "version_minor": 0
      },
      "text/plain": [
       "run: 31, p: 0.6:   0%|          | 0/5000 [00:00<?, ?it/s]"
      ]
     },
     "metadata": {},
     "output_type": "display_data"
    },
    {
     "data": {
      "application/vnd.jupyter.widget-view+json": {
       "model_id": "699b7770b67f4389baaf495b29534f3b",
       "version_major": 2,
       "version_minor": 0
      },
      "text/plain": [
       "run: 32, p: 0.9:   0%|          | 0/5000 [00:00<?, ?it/s]"
      ]
     },
     "metadata": {},
     "output_type": "display_data"
    },
    {
     "data": {
      "application/vnd.jupyter.widget-view+json": {
       "model_id": "7e7dd528a1944d78b086d77fb7d3bfde",
       "version_major": 2,
       "version_minor": 0
      },
      "text/plain": [
       "run: 32, p: 0.8:   0%|          | 0/5000 [00:00<?, ?it/s]"
      ]
     },
     "metadata": {},
     "output_type": "display_data"
    },
    {
     "data": {
      "application/vnd.jupyter.widget-view+json": {
       "model_id": "3ca8b48afcd74515ae9fa8ff773284dc",
       "version_major": 2,
       "version_minor": 0
      },
      "text/plain": [
       "run: 32, p: 0.7:   0%|          | 0/5000 [00:00<?, ?it/s]"
      ]
     },
     "metadata": {},
     "output_type": "display_data"
    },
    {
     "data": {
      "application/vnd.jupyter.widget-view+json": {
       "model_id": "abfeff3a07504982934544634f8e27ca",
       "version_major": 2,
       "version_minor": 0
      },
      "text/plain": [
       "run: 32, p: 0.6:   0%|          | 0/5000 [00:00<?, ?it/s]"
      ]
     },
     "metadata": {},
     "output_type": "display_data"
    },
    {
     "data": {
      "application/vnd.jupyter.widget-view+json": {
       "model_id": "2257f6baa8ef4b8abf50a8101ead168b",
       "version_major": 2,
       "version_minor": 0
      },
      "text/plain": [
       "run: 33, p: 0.9:   0%|          | 0/5000 [00:00<?, ?it/s]"
      ]
     },
     "metadata": {},
     "output_type": "display_data"
    },
    {
     "data": {
      "application/vnd.jupyter.widget-view+json": {
       "model_id": "e05b6fac5fe948548407439b51a20e3c",
       "version_major": 2,
       "version_minor": 0
      },
      "text/plain": [
       "run: 33, p: 0.8:   0%|          | 0/5000 [00:00<?, ?it/s]"
      ]
     },
     "metadata": {},
     "output_type": "display_data"
    },
    {
     "data": {
      "application/vnd.jupyter.widget-view+json": {
       "model_id": "83908a91ac684831a75a4e8796d53f1c",
       "version_major": 2,
       "version_minor": 0
      },
      "text/plain": [
       "run: 33, p: 0.7:   0%|          | 0/5000 [00:00<?, ?it/s]"
      ]
     },
     "metadata": {},
     "output_type": "display_data"
    },
    {
     "data": {
      "application/vnd.jupyter.widget-view+json": {
       "model_id": "b6d1555ed0624dc99590e9dbd42f3772",
       "version_major": 2,
       "version_minor": 0
      },
      "text/plain": [
       "run: 33, p: 0.6:   0%|          | 0/5000 [00:00<?, ?it/s]"
      ]
     },
     "metadata": {},
     "output_type": "display_data"
    },
    {
     "data": {
      "application/vnd.jupyter.widget-view+json": {
       "model_id": "1716088efd404c5087f4416345c401da",
       "version_major": 2,
       "version_minor": 0
      },
      "text/plain": [
       "run: 34, p: 0.9:   0%|          | 0/5000 [00:00<?, ?it/s]"
      ]
     },
     "metadata": {},
     "output_type": "display_data"
    },
    {
     "data": {
      "application/vnd.jupyter.widget-view+json": {
       "model_id": "35b89fc4d1c048179fe798b0da535e9f",
       "version_major": 2,
       "version_minor": 0
      },
      "text/plain": [
       "run: 34, p: 0.8:   0%|          | 0/5000 [00:00<?, ?it/s]"
      ]
     },
     "metadata": {},
     "output_type": "display_data"
    },
    {
     "data": {
      "application/vnd.jupyter.widget-view+json": {
       "model_id": "108b1d8c0fb945d0abbc814ec1b3a576",
       "version_major": 2,
       "version_minor": 0
      },
      "text/plain": [
       "run: 34, p: 0.7:   0%|          | 0/5000 [00:00<?, ?it/s]"
      ]
     },
     "metadata": {},
     "output_type": "display_data"
    },
    {
     "data": {
      "application/vnd.jupyter.widget-view+json": {
       "model_id": "ee876a470dac461c82009b34571996d3",
       "version_major": 2,
       "version_minor": 0
      },
      "text/plain": [
       "run: 34, p: 0.6:   0%|          | 0/5000 [00:00<?, ?it/s]"
      ]
     },
     "metadata": {},
     "output_type": "display_data"
    },
    {
     "data": {
      "application/vnd.jupyter.widget-view+json": {
       "model_id": "bb2f78b8eedd4ebbaea83479375fbe1b",
       "version_major": 2,
       "version_minor": 0
      },
      "text/plain": [
       "run: 35, p: 0.9:   0%|          | 0/5000 [00:00<?, ?it/s]"
      ]
     },
     "metadata": {},
     "output_type": "display_data"
    },
    {
     "data": {
      "application/vnd.jupyter.widget-view+json": {
       "model_id": "9028ae35c32e41f7aeb9084e4179f19a",
       "version_major": 2,
       "version_minor": 0
      },
      "text/plain": [
       "run: 35, p: 0.8:   0%|          | 0/5000 [00:00<?, ?it/s]"
      ]
     },
     "metadata": {},
     "output_type": "display_data"
    },
    {
     "data": {
      "application/vnd.jupyter.widget-view+json": {
       "model_id": "0cd369651ae8464bb416e0de833d5d7e",
       "version_major": 2,
       "version_minor": 0
      },
      "text/plain": [
       "run: 35, p: 0.7:   0%|          | 0/5000 [00:00<?, ?it/s]"
      ]
     },
     "metadata": {},
     "output_type": "display_data"
    },
    {
     "data": {
      "application/vnd.jupyter.widget-view+json": {
       "model_id": "227b50712b104666acd4faf9c46c6758",
       "version_major": 2,
       "version_minor": 0
      },
      "text/plain": [
       "run: 35, p: 0.6:   0%|          | 0/5000 [00:00<?, ?it/s]"
      ]
     },
     "metadata": {},
     "output_type": "display_data"
    },
    {
     "data": {
      "application/vnd.jupyter.widget-view+json": {
       "model_id": "bb48a155073d433ea54ca40671e28f6c",
       "version_major": 2,
       "version_minor": 0
      },
      "text/plain": [
       "run: 36, p: 0.9:   0%|          | 0/5000 [00:00<?, ?it/s]"
      ]
     },
     "metadata": {},
     "output_type": "display_data"
    },
    {
     "data": {
      "application/vnd.jupyter.widget-view+json": {
       "model_id": "a40975d3423d4f0a8bdd2fe7ae2890f0",
       "version_major": 2,
       "version_minor": 0
      },
      "text/plain": [
       "run: 36, p: 0.8:   0%|          | 0/5000 [00:00<?, ?it/s]"
      ]
     },
     "metadata": {},
     "output_type": "display_data"
    },
    {
     "data": {
      "application/vnd.jupyter.widget-view+json": {
       "model_id": "70c2926ffe40430481689c86c1375f53",
       "version_major": 2,
       "version_minor": 0
      },
      "text/plain": [
       "run: 36, p: 0.7:   0%|          | 0/5000 [00:00<?, ?it/s]"
      ]
     },
     "metadata": {},
     "output_type": "display_data"
    },
    {
     "data": {
      "application/vnd.jupyter.widget-view+json": {
       "model_id": "550262c582714868ba6e1d944699783f",
       "version_major": 2,
       "version_minor": 0
      },
      "text/plain": [
       "run: 36, p: 0.6:   0%|          | 0/5000 [00:00<?, ?it/s]"
      ]
     },
     "metadata": {},
     "output_type": "display_data"
    },
    {
     "data": {
      "application/vnd.jupyter.widget-view+json": {
       "model_id": "c654bda49f1740d5a6fbccfeb8fc683f",
       "version_major": 2,
       "version_minor": 0
      },
      "text/plain": [
       "run: 37, p: 0.9:   0%|          | 0/5000 [00:00<?, ?it/s]"
      ]
     },
     "metadata": {},
     "output_type": "display_data"
    },
    {
     "data": {
      "application/vnd.jupyter.widget-view+json": {
       "model_id": "643f163758714847b3a7479f8e3b20dc",
       "version_major": 2,
       "version_minor": 0
      },
      "text/plain": [
       "run: 37, p: 0.8:   0%|          | 0/5000 [00:00<?, ?it/s]"
      ]
     },
     "metadata": {},
     "output_type": "display_data"
    },
    {
     "data": {
      "application/vnd.jupyter.widget-view+json": {
       "model_id": "a0d37a8d7f3348298da1a477452a869a",
       "version_major": 2,
       "version_minor": 0
      },
      "text/plain": [
       "run: 37, p: 0.7:   0%|          | 0/5000 [00:00<?, ?it/s]"
      ]
     },
     "metadata": {},
     "output_type": "display_data"
    },
    {
     "data": {
      "application/vnd.jupyter.widget-view+json": {
       "model_id": "a201afa71e3340eaad7a064f519faf5c",
       "version_major": 2,
       "version_minor": 0
      },
      "text/plain": [
       "run: 37, p: 0.6:   0%|          | 0/5000 [00:00<?, ?it/s]"
      ]
     },
     "metadata": {},
     "output_type": "display_data"
    },
    {
     "data": {
      "application/vnd.jupyter.widget-view+json": {
       "model_id": "b86e333276cf4e539d0c98dcf3f5ffcb",
       "version_major": 2,
       "version_minor": 0
      },
      "text/plain": [
       "run: 38, p: 0.9:   0%|          | 0/5000 [00:00<?, ?it/s]"
      ]
     },
     "metadata": {},
     "output_type": "display_data"
    },
    {
     "data": {
      "application/vnd.jupyter.widget-view+json": {
       "model_id": "690aa2bca34a42b282b24d457570a89f",
       "version_major": 2,
       "version_minor": 0
      },
      "text/plain": [
       "run: 38, p: 0.8:   0%|          | 0/5000 [00:00<?, ?it/s]"
      ]
     },
     "metadata": {},
     "output_type": "display_data"
    },
    {
     "data": {
      "application/vnd.jupyter.widget-view+json": {
       "model_id": "d9ddb6cbb784462fbab06eb4217e88a8",
       "version_major": 2,
       "version_minor": 0
      },
      "text/plain": [
       "run: 38, p: 0.7:   0%|          | 0/5000 [00:00<?, ?it/s]"
      ]
     },
     "metadata": {},
     "output_type": "display_data"
    },
    {
     "data": {
      "application/vnd.jupyter.widget-view+json": {
       "model_id": "ead2e56b92e2498eb2a11897347d275d",
       "version_major": 2,
       "version_minor": 0
      },
      "text/plain": [
       "run: 38, p: 0.6:   0%|          | 0/5000 [00:00<?, ?it/s]"
      ]
     },
     "metadata": {},
     "output_type": "display_data"
    },
    {
     "data": {
      "application/vnd.jupyter.widget-view+json": {
       "model_id": "34adbe7d6f2e4a0698591cb42de763bd",
       "version_major": 2,
       "version_minor": 0
      },
      "text/plain": [
       "run: 39, p: 0.9:   0%|          | 0/5000 [00:00<?, ?it/s]"
      ]
     },
     "metadata": {},
     "output_type": "display_data"
    },
    {
     "data": {
      "application/vnd.jupyter.widget-view+json": {
       "model_id": "37a596b76dd1479599b0420ac42e7890",
       "version_major": 2,
       "version_minor": 0
      },
      "text/plain": [
       "run: 39, p: 0.8:   0%|          | 0/5000 [00:00<?, ?it/s]"
      ]
     },
     "metadata": {},
     "output_type": "display_data"
    },
    {
     "data": {
      "application/vnd.jupyter.widget-view+json": {
       "model_id": "b4dafdeab726439caee96fadd975256c",
       "version_major": 2,
       "version_minor": 0
      },
      "text/plain": [
       "run: 39, p: 0.7:   0%|          | 0/5000 [00:00<?, ?it/s]"
      ]
     },
     "metadata": {},
     "output_type": "display_data"
    },
    {
     "data": {
      "application/vnd.jupyter.widget-view+json": {
       "model_id": "10d59701e2ae47579b73def583d00054",
       "version_major": 2,
       "version_minor": 0
      },
      "text/plain": [
       "run: 39, p: 0.6:   0%|          | 0/5000 [00:00<?, ?it/s]"
      ]
     },
     "metadata": {},
     "output_type": "display_data"
    },
    {
     "data": {
      "application/vnd.jupyter.widget-view+json": {
       "model_id": "53222f47af1c45e68f8e98b349f02fba",
       "version_major": 2,
       "version_minor": 0
      },
      "text/plain": [
       "run: 40, p: 0.9:   0%|          | 0/5000 [00:00<?, ?it/s]"
      ]
     },
     "metadata": {},
     "output_type": "display_data"
    },
    {
     "data": {
      "application/vnd.jupyter.widget-view+json": {
       "model_id": "a96474bca53d4639be86525786054f20",
       "version_major": 2,
       "version_minor": 0
      },
      "text/plain": [
       "run: 40, p: 0.8:   0%|          | 0/5000 [00:00<?, ?it/s]"
      ]
     },
     "metadata": {},
     "output_type": "display_data"
    },
    {
     "data": {
      "application/vnd.jupyter.widget-view+json": {
       "model_id": "1f1a698ac6674e37a0b1c1e9eac821dc",
       "version_major": 2,
       "version_minor": 0
      },
      "text/plain": [
       "run: 40, p: 0.7:   0%|          | 0/5000 [00:00<?, ?it/s]"
      ]
     },
     "metadata": {},
     "output_type": "display_data"
    },
    {
     "data": {
      "application/vnd.jupyter.widget-view+json": {
       "model_id": "1f5e6d15fdbe4f5db0718d5a6ada4efc",
       "version_major": 2,
       "version_minor": 0
      },
      "text/plain": [
       "run: 40, p: 0.6:   0%|          | 0/5000 [00:00<?, ?it/s]"
      ]
     },
     "metadata": {},
     "output_type": "display_data"
    },
    {
     "data": {
      "application/vnd.jupyter.widget-view+json": {
       "model_id": "d976c4cb59f04406af40a3504d274ae6",
       "version_major": 2,
       "version_minor": 0
      },
      "text/plain": [
       "run: 41, p: 0.9:   0%|          | 0/5000 [00:00<?, ?it/s]"
      ]
     },
     "metadata": {},
     "output_type": "display_data"
    },
    {
     "data": {
      "application/vnd.jupyter.widget-view+json": {
       "model_id": "23bbb68aa8dd4e71bf1d83a0f287ed59",
       "version_major": 2,
       "version_minor": 0
      },
      "text/plain": [
       "run: 41, p: 0.8:   0%|          | 0/5000 [00:00<?, ?it/s]"
      ]
     },
     "metadata": {},
     "output_type": "display_data"
    },
    {
     "data": {
      "application/vnd.jupyter.widget-view+json": {
       "model_id": "0210987a42d74e5e989b281b314380be",
       "version_major": 2,
       "version_minor": 0
      },
      "text/plain": [
       "run: 41, p: 0.7:   0%|          | 0/5000 [00:00<?, ?it/s]"
      ]
     },
     "metadata": {},
     "output_type": "display_data"
    },
    {
     "data": {
      "application/vnd.jupyter.widget-view+json": {
       "model_id": "85701acd9ee7448080216d6bb03f51a4",
       "version_major": 2,
       "version_minor": 0
      },
      "text/plain": [
       "run: 41, p: 0.6:   0%|          | 0/5000 [00:00<?, ?it/s]"
      ]
     },
     "metadata": {},
     "output_type": "display_data"
    },
    {
     "data": {
      "application/vnd.jupyter.widget-view+json": {
       "model_id": "399f26fad6bf4860823bb032b9708980",
       "version_major": 2,
       "version_minor": 0
      },
      "text/plain": [
       "run: 42, p: 0.9:   0%|          | 0/5000 [00:00<?, ?it/s]"
      ]
     },
     "metadata": {},
     "output_type": "display_data"
    },
    {
     "data": {
      "application/vnd.jupyter.widget-view+json": {
       "model_id": "a5bc7c0912a343aca05dd0ba227114a9",
       "version_major": 2,
       "version_minor": 0
      },
      "text/plain": [
       "run: 42, p: 0.8:   0%|          | 0/5000 [00:00<?, ?it/s]"
      ]
     },
     "metadata": {},
     "output_type": "display_data"
    },
    {
     "data": {
      "application/vnd.jupyter.widget-view+json": {
       "model_id": "ea416f434b9b48e69d546093d6aeaabf",
       "version_major": 2,
       "version_minor": 0
      },
      "text/plain": [
       "run: 42, p: 0.7:   0%|          | 0/5000 [00:00<?, ?it/s]"
      ]
     },
     "metadata": {},
     "output_type": "display_data"
    },
    {
     "data": {
      "application/vnd.jupyter.widget-view+json": {
       "model_id": "951562e90de845acb7426de57fc812ef",
       "version_major": 2,
       "version_minor": 0
      },
      "text/plain": [
       "run: 42, p: 0.6:   0%|          | 0/5000 [00:00<?, ?it/s]"
      ]
     },
     "metadata": {},
     "output_type": "display_data"
    },
    {
     "data": {
      "application/vnd.jupyter.widget-view+json": {
       "model_id": "a7dafeaa59ae47b88953f17259950188",
       "version_major": 2,
       "version_minor": 0
      },
      "text/plain": [
       "run: 43, p: 0.9:   0%|          | 0/5000 [00:00<?, ?it/s]"
      ]
     },
     "metadata": {},
     "output_type": "display_data"
    },
    {
     "data": {
      "application/vnd.jupyter.widget-view+json": {
       "model_id": "6d301e0b33f94f79896a5617e5cb2361",
       "version_major": 2,
       "version_minor": 0
      },
      "text/plain": [
       "run: 43, p: 0.8:   0%|          | 0/5000 [00:00<?, ?it/s]"
      ]
     },
     "metadata": {},
     "output_type": "display_data"
    },
    {
     "data": {
      "application/vnd.jupyter.widget-view+json": {
       "model_id": "52b42f49f3884b59af08fa3dcb365db8",
       "version_major": 2,
       "version_minor": 0
      },
      "text/plain": [
       "run: 43, p: 0.7:   0%|          | 0/5000 [00:00<?, ?it/s]"
      ]
     },
     "metadata": {},
     "output_type": "display_data"
    },
    {
     "data": {
      "application/vnd.jupyter.widget-view+json": {
       "model_id": "d4c3c5f3d8b84afd8a62ef103957b96b",
       "version_major": 2,
       "version_minor": 0
      },
      "text/plain": [
       "run: 43, p: 0.6:   0%|          | 0/5000 [00:00<?, ?it/s]"
      ]
     },
     "metadata": {},
     "output_type": "display_data"
    },
    {
     "data": {
      "application/vnd.jupyter.widget-view+json": {
       "model_id": "1fc0f10d34aa495e87d1a1cf4b37558a",
       "version_major": 2,
       "version_minor": 0
      },
      "text/plain": [
       "run: 44, p: 0.9:   0%|          | 0/5000 [00:00<?, ?it/s]"
      ]
     },
     "metadata": {},
     "output_type": "display_data"
    },
    {
     "data": {
      "application/vnd.jupyter.widget-view+json": {
       "model_id": "063f1fcd2e124cedaff2afdde8b78581",
       "version_major": 2,
       "version_minor": 0
      },
      "text/plain": [
       "run: 44, p: 0.8:   0%|          | 0/5000 [00:00<?, ?it/s]"
      ]
     },
     "metadata": {},
     "output_type": "display_data"
    },
    {
     "data": {
      "application/vnd.jupyter.widget-view+json": {
       "model_id": "ea0eabb6acfe4c5e9fe7edce25e7d466",
       "version_major": 2,
       "version_minor": 0
      },
      "text/plain": [
       "run: 44, p: 0.7:   0%|          | 0/5000 [00:00<?, ?it/s]"
      ]
     },
     "metadata": {},
     "output_type": "display_data"
    },
    {
     "data": {
      "application/vnd.jupyter.widget-view+json": {
       "model_id": "2f64ef04bbe247f491122537f17b6d85",
       "version_major": 2,
       "version_minor": 0
      },
      "text/plain": [
       "run: 44, p: 0.6:   0%|          | 0/5000 [00:00<?, ?it/s]"
      ]
     },
     "metadata": {},
     "output_type": "display_data"
    },
    {
     "data": {
      "application/vnd.jupyter.widget-view+json": {
       "model_id": "917cc0ab5bb7421cb597311671934447",
       "version_major": 2,
       "version_minor": 0
      },
      "text/plain": [
       "run: 45, p: 0.9:   0%|          | 0/5000 [00:00<?, ?it/s]"
      ]
     },
     "metadata": {},
     "output_type": "display_data"
    },
    {
     "data": {
      "application/vnd.jupyter.widget-view+json": {
       "model_id": "07f88b0c46c9414587993d41b5fc6df8",
       "version_major": 2,
       "version_minor": 0
      },
      "text/plain": [
       "run: 45, p: 0.8:   0%|          | 0/5000 [00:00<?, ?it/s]"
      ]
     },
     "metadata": {},
     "output_type": "display_data"
    },
    {
     "data": {
      "application/vnd.jupyter.widget-view+json": {
       "model_id": "bf28ebe2cb1b456d83e9d8638f72d910",
       "version_major": 2,
       "version_minor": 0
      },
      "text/plain": [
       "run: 45, p: 0.7:   0%|          | 0/5000 [00:00<?, ?it/s]"
      ]
     },
     "metadata": {},
     "output_type": "display_data"
    },
    {
     "data": {
      "application/vnd.jupyter.widget-view+json": {
       "model_id": "a5d83b6d257640a79df3cefd59b76366",
       "version_major": 2,
       "version_minor": 0
      },
      "text/plain": [
       "run: 45, p: 0.6:   0%|          | 0/5000 [00:00<?, ?it/s]"
      ]
     },
     "metadata": {},
     "output_type": "display_data"
    },
    {
     "data": {
      "application/vnd.jupyter.widget-view+json": {
       "model_id": "46ac466b754c47f097926a56f8b292fb",
       "version_major": 2,
       "version_minor": 0
      },
      "text/plain": [
       "run: 46, p: 0.9:   0%|          | 0/5000 [00:00<?, ?it/s]"
      ]
     },
     "metadata": {},
     "output_type": "display_data"
    },
    {
     "data": {
      "application/vnd.jupyter.widget-view+json": {
       "model_id": "8584b362d19b45cdbbce764c5a54cf43",
       "version_major": 2,
       "version_minor": 0
      },
      "text/plain": [
       "run: 46, p: 0.8:   0%|          | 0/5000 [00:00<?, ?it/s]"
      ]
     },
     "metadata": {},
     "output_type": "display_data"
    },
    {
     "data": {
      "application/vnd.jupyter.widget-view+json": {
       "model_id": "1a80302a72074261baa72ea8b442235e",
       "version_major": 2,
       "version_minor": 0
      },
      "text/plain": [
       "run: 46, p: 0.7:   0%|          | 0/5000 [00:00<?, ?it/s]"
      ]
     },
     "metadata": {},
     "output_type": "display_data"
    },
    {
     "data": {
      "application/vnd.jupyter.widget-view+json": {
       "model_id": "cf2342c98fdc456f9426190fa54769e5",
       "version_major": 2,
       "version_minor": 0
      },
      "text/plain": [
       "run: 46, p: 0.6:   0%|          | 0/5000 [00:00<?, ?it/s]"
      ]
     },
     "metadata": {},
     "output_type": "display_data"
    },
    {
     "data": {
      "application/vnd.jupyter.widget-view+json": {
       "model_id": "40d9aae4260543b29d2a8af1cf9024eb",
       "version_major": 2,
       "version_minor": 0
      },
      "text/plain": [
       "run: 47, p: 0.9:   0%|          | 0/5000 [00:00<?, ?it/s]"
      ]
     },
     "metadata": {},
     "output_type": "display_data"
    },
    {
     "data": {
      "application/vnd.jupyter.widget-view+json": {
       "model_id": "08ca8b20f5274fa08ae23a4c505f4b08",
       "version_major": 2,
       "version_minor": 0
      },
      "text/plain": [
       "run: 47, p: 0.8:   0%|          | 0/5000 [00:00<?, ?it/s]"
      ]
     },
     "metadata": {},
     "output_type": "display_data"
    },
    {
     "data": {
      "application/vnd.jupyter.widget-view+json": {
       "model_id": "edbc25c0185f48c38bf7df53931de34c",
       "version_major": 2,
       "version_minor": 0
      },
      "text/plain": [
       "run: 47, p: 0.7:   0%|          | 0/5000 [00:00<?, ?it/s]"
      ]
     },
     "metadata": {},
     "output_type": "display_data"
    },
    {
     "data": {
      "application/vnd.jupyter.widget-view+json": {
       "model_id": "08b1e47c6a184b64880a615af1a94856",
       "version_major": 2,
       "version_minor": 0
      },
      "text/plain": [
       "run: 47, p: 0.6:   0%|          | 0/5000 [00:00<?, ?it/s]"
      ]
     },
     "metadata": {},
     "output_type": "display_data"
    },
    {
     "data": {
      "application/vnd.jupyter.widget-view+json": {
       "model_id": "ef24f25ddf2540b0b586a78aceb54512",
       "version_major": 2,
       "version_minor": 0
      },
      "text/plain": [
       "run: 48, p: 0.9:   0%|          | 0/5000 [00:00<?, ?it/s]"
      ]
     },
     "metadata": {},
     "output_type": "display_data"
    },
    {
     "data": {
      "application/vnd.jupyter.widget-view+json": {
       "model_id": "5dce07e02e8d48a889da6692bcd9d418",
       "version_major": 2,
       "version_minor": 0
      },
      "text/plain": [
       "run: 48, p: 0.8:   0%|          | 0/5000 [00:00<?, ?it/s]"
      ]
     },
     "metadata": {},
     "output_type": "display_data"
    },
    {
     "data": {
      "application/vnd.jupyter.widget-view+json": {
       "model_id": "b9235a50b2494eadabfdc092109cf835",
       "version_major": 2,
       "version_minor": 0
      },
      "text/plain": [
       "run: 48, p: 0.7:   0%|          | 0/5000 [00:00<?, ?it/s]"
      ]
     },
     "metadata": {},
     "output_type": "display_data"
    },
    {
     "data": {
      "application/vnd.jupyter.widget-view+json": {
       "model_id": "acff2d3ddf5845e6b74cd6eef6473835",
       "version_major": 2,
       "version_minor": 0
      },
      "text/plain": [
       "run: 48, p: 0.6:   0%|          | 0/5000 [00:00<?, ?it/s]"
      ]
     },
     "metadata": {},
     "output_type": "display_data"
    },
    {
     "data": {
      "application/vnd.jupyter.widget-view+json": {
       "model_id": "8b69652174b642eca6e9f3f82cc038af",
       "version_major": 2,
       "version_minor": 0
      },
      "text/plain": [
       "run: 49, p: 0.9:   0%|          | 0/5000 [00:00<?, ?it/s]"
      ]
     },
     "metadata": {},
     "output_type": "display_data"
    },
    {
     "data": {
      "application/vnd.jupyter.widget-view+json": {
       "model_id": "61f725a204c54ff380c6d715d633e825",
       "version_major": 2,
       "version_minor": 0
      },
      "text/plain": [
       "run: 49, p: 0.8:   0%|          | 0/5000 [00:00<?, ?it/s]"
      ]
     },
     "metadata": {},
     "output_type": "display_data"
    },
    {
     "data": {
      "application/vnd.jupyter.widget-view+json": {
       "model_id": "f8de34846f324cffbdb21d8a2e7c66c0",
       "version_major": 2,
       "version_minor": 0
      },
      "text/plain": [
       "run: 49, p: 0.7:   0%|          | 0/5000 [00:00<?, ?it/s]"
      ]
     },
     "metadata": {},
     "output_type": "display_data"
    },
    {
     "data": {
      "application/vnd.jupyter.widget-view+json": {
       "model_id": "d33fdc22d39d4edb805665db4a66392d",
       "version_major": 2,
       "version_minor": 0
      },
      "text/plain": [
       "run: 49, p: 0.6:   0%|          | 0/5000 [00:00<?, ?it/s]"
      ]
     },
     "metadata": {},
     "output_type": "display_data"
    },
    {
     "data": {
      "application/vnd.jupyter.widget-view+json": {
       "model_id": "cfa8138cfd67493392d56d9abcd834bf",
       "version_major": 2,
       "version_minor": 0
      },
      "text/plain": [
       "run: 50, p: 0.9:   0%|          | 0/5000 [00:00<?, ?it/s]"
      ]
     },
     "metadata": {},
     "output_type": "display_data"
    },
    {
     "data": {
      "application/vnd.jupyter.widget-view+json": {
       "model_id": "aee3db123264485b8c8ebe2fb8d1e3ac",
       "version_major": 2,
       "version_minor": 0
      },
      "text/plain": [
       "run: 50, p: 0.8:   0%|          | 0/5000 [00:00<?, ?it/s]"
      ]
     },
     "metadata": {},
     "output_type": "display_data"
    },
    {
     "data": {
      "application/vnd.jupyter.widget-view+json": {
       "model_id": "354af712282341a190cf718178d7f827",
       "version_major": 2,
       "version_minor": 0
      },
      "text/plain": [
       "run: 50, p: 0.7:   0%|          | 0/5000 [00:00<?, ?it/s]"
      ]
     },
     "metadata": {},
     "output_type": "display_data"
    },
    {
     "data": {
      "application/vnd.jupyter.widget-view+json": {
       "model_id": "d681f0d2778e473c8ae3bc92a1a9dfd6",
       "version_major": 2,
       "version_minor": 0
      },
      "text/plain": [
       "run: 50, p: 0.6:   0%|          | 0/5000 [00:00<?, ?it/s]"
      ]
     },
     "metadata": {},
     "output_type": "display_data"
    }
   ],
   "source": [
    "n_runs = 50\n",
    "n = 8\n",
    "\n",
    "rewards_a = []\n",
    "\n",
    "for run in range(1, n_runs+1):\n",
    "    for p in np.arange(0.9, 0.6, -0.1):\n",
    "        p = round(p, 2)\n",
    "        fl_env = new_fl_env(n, p)\n",
    "\n",
    "        start_state = fl_env.reset()\n",
    "        random_agent = FLRandomAgent()        \n",
    "        end_state, total_reward, animation_data = run_episode(fl_env, random_agent, start_state, is_learning=False, is_animating=False, is_rendering=False)\n",
    "        rewards_a.append((run, p, total_reward, 'RA'))\n",
    "\n",
    "        start_state = fl_env.reset()\n",
    "        random_aware_agent = FLRandomAwareAgent()        \n",
    "        end_state, total_reward, animation_data = run_episode(fl_env, random_aware_agent, start_state, is_learning=False, is_animating=False, is_rendering=False)\n",
    "        rewards_a.append((run, p, total_reward, 'SRA'))\n",
    "        \n",
    "        start_state = fl_env.reset()\n",
    "        handcrafted_agent = FLHandcraftedAgent()\n",
    "        end_state, total_reward, animation_data = run_episode(fl_env, handcrafted_agent, start_state, is_learning=False, is_animating=False, is_rendering=False)\n",
    "        rewards_a.append((run, p, total_reward, 'HA'))\n",
    "\n",
    "        vaf_naive = ValuebasedArgumentationFramework(args_naive, atts_naive, [])\n",
    "        aa_agent_naive = FLAAAgent(vaf_naive, arg_actions_naive, fl_observation_to_premises, fl_premises_to_args, n)\n",
    "        agent_co_naive = COAAAgent(5e-3, .999, 0.3, af_naive.args)\n",
    "        co_env_naive = COAAenv(args_naive, arg_actions_naive, af_naive, fl_env, fl_observation_to_premises, fl_premises_to_args, aa_agent_naive)\n",
    "\n",
    "        vaf_advanced = ValuebasedArgumentationFramework(args_advanced, atts_advanced, [])\n",
    "        aa_agent_advanced = FLAAAgent(vaf_advanced, arg_actions_advanced, fl_observation_to_premises, fl_premises_to_args, n)\n",
    "        agent_co_advanced = COAAAgent(5e-3, .999, 0.3, af_advanced.args)\n",
    "        co_env_advanced = COAAenv(args_advanced, arg_actions_advanced, af_advanced, fl_env, fl_observation_to_premises, fl_premises_to_args, aa_agent_advanced)\n",
    "\n",
    "        fl_agent = FrozenLakeAgent(n, 1e-1, 0.99, 0.1)\n",
    "\n",
    "\n",
    "        converged_rewards = []\n",
    "\n",
    "        converged_nsa = False\n",
    "        converged_naive_sa = False\n",
    "        converged_advanced_sa = False\n",
    "\n",
    "        t_episodes = tqdm(range(1, 5000+1), desc='run: {}, p: {}'.format(run, p))\n",
    "        for epi in t_episodes:\n",
    "            if not converged_nsa:\n",
    "                # Non-symbolic\n",
    "                start_state = fl_env.reset()\n",
    "                _, _, _= run_episode(fl_env, fl_agent, start_state, is_learning=True, is_animating=False, is_rendering=False)\n",
    "                start_state = fl_env.reset()\n",
    "                _, reward_nsa, _= run_episode(fl_env, fl_agent, start_state, is_learning=False, is_animating=False, is_rendering=False)\n",
    "                fl_agent.alpha = np.max([fl_agent.alpha*(1-1e-3), 1e-2])\n",
    "                fl_agent.epsilon = np.max([fl_agent.alpha*(1-1e-3), 0.01])\n",
    "\n",
    "            if not converged_naive_sa:\n",
    "                # Symbolic naive\n",
    "                start_state = co_env_naive.reset()\n",
    "                agent_co_naive.alpha = np.max([agent_co_naive.alpha*(1-1e-4), 1e-4])\n",
    "                agent_co_naive.epsilon = np.max([agent_co_naive.epsilon*(1-1e-3), 0.01])\n",
    "                _, reward_naive, _= run_episode(co_env_naive, agent_co_naive, start_state, is_learning=True, is_animating=False, is_rendering=False)\n",
    "                reward_naive = co_env_naive._get_game_reward(False)\n",
    "\n",
    "            if not converged_advanced_sa:\n",
    "                # Symbolic advanced\n",
    "                start_state = co_env_advanced.reset()\n",
    "                agent_co_advanced.alpha = np.max([agent_co_advanced.alpha*(1-1e-4), 1e-4])\n",
    "                agent_co_advanced.epsilon = np.max([agent_co_advanced.epsilon*(1-1e-3), 0.01])\n",
    "                _, reward_advanced, _= run_episode(co_env_advanced, agent_co_advanced, start_state, is_learning=True, is_animating=False, is_rendering=False)\n",
    "                reward_advanced = co_env_advanced._get_game_reward(False)\n",
    "\n",
    "            converged_rewards.append((reward_nsa, reward_naive, reward_advanced))\n",
    "\n",
    "            rew_nsa = np.average([rew[0] for rew in converged_rewards[-100:]])\n",
    "            rew_naive = np.average([rew[1] for rew in converged_rewards[-100:]])\n",
    "            rew_advanced = np.average([rew[2] for rew in converged_rewards[-100:]])\n",
    "\n",
    "            converged_nsa = True if rew_nsa==1 else False\n",
    "            converged_naive_sa = True if rew_naive==1 else False\n",
    "            converged_advanced_sa = True if rew_advanced==1 else False\n",
    "\n",
    "            if epi % 100 == 0:\n",
    "                t_episodes.set_postfix({\n",
    "                    'nsa': rew_nsa,\n",
    "                    'naive': rew_naive,\n",
    "                    'advanced': rew_advanced,\n",
    "                })\n",
    "\n",
    "        # Approximate the convergence value by storing the last moving average of the reward.\n",
    "        # Non-symbolic\n",
    "        rewards_a.append((run, p, rew_nsa, 'NSA'))\n",
    "\n",
    "        # Symbolic naive\n",
    "        rewards_a.append((run, p, rew_naive, 'naive SA'))\n",
    "\n",
    "        # Symbolic advanced\n",
    "        rewards_a.append((run, p, rew_advanced, 'advanced SA'))\n",
    "        \n",
    "rewards_a = pd.DataFrame(rewards_a, columns=('run', 'p', 'reward', 'agent'))\n",
    "timestamp_a = datetime.now().strftime(\"%d%m%Y-%H%M%S\")\n",
    "filename_a = \"../../data/exp-A-{}.csv\".format(timestamp_a)\n",
    "rewards_a.to_csv(filename_a)"
   ]
  },
  {
   "cell_type": "code",
   "execution_count": 4,
   "metadata": {},
   "outputs": [
    {
     "name": "stderr",
     "output_type": "stream",
     "text": [
      "c:\\Users\\omcan\\miniconda3\\envs\\py39\\lib\\site-packages\\seaborn\\rcmod.py:400: DeprecationWarning: distutils Version classes are deprecated. Use packaging.version instead.\n",
      "  if LooseVersion(mpl.__version__) >= \"3.0\":\n",
      "c:\\Users\\omcan\\miniconda3\\envs\\py39\\lib\\site-packages\\setuptools\\_distutils\\version.py:346: DeprecationWarning: distutils Version classes are deprecated. Use packaging.version instead.\n",
      "  other = LooseVersion(other)\n",
      "c:\\Users\\omcan\\miniconda3\\envs\\py39\\lib\\site-packages\\seaborn\\categorical.py:381: DeprecationWarning: distutils Version classes are deprecated. Use packaging.version instead.\n",
      "  if LooseVersion(mpl.__version__) < \"3.0\":\n",
      "c:\\Users\\omcan\\miniconda3\\envs\\py39\\lib\\site-packages\\setuptools\\_distutils\\version.py:346: DeprecationWarning: distutils Version classes are deprecated. Use packaging.version instead.\n",
      "  other = LooseVersion(other)\n"
     ]
    },
    {
     "data": {
      "text/plain": [
       "<matplotlib.legend.Legend at 0x24395d04d30>"
      ]
     },
     "execution_count": 4,
     "metadata": {},
     "output_type": "execute_result"
    },
    {
     "data": {
      "image/png": "[encoded data removed]",
      "text/plain": [
       "<Figure size 432x288 with 1 Axes>"
      ]
     },
     "metadata": {
      "needs_background": "light"
     },
     "output_type": "display_data"
    }
   ],
   "source": [
    "sns.set(rc = {'figure.figsize':(15,8)}, style='whitegrid')\n",
    "sns.set_context(\"poster\", rc={\"lines.linewidth\": 3}, font_scale=1)\n",
    "# filename_a = '../../data/exp-A-15092022-231653.csv'\n",
    "# rewards_a = pd.read_csv(filename_a)\n",
    "rewards_a = pd.DataFrame(rewards_a, columns=('run', 'p', 'reward', 'agent'))\n",
    "rewards_a['success'] = rewards_a['reward'].transform(lambda x: 1 if x>0.5 else 0)\n",
    "rewards_a_plot = sns.pointplot(x='p', y=\"success\", hue='agent', data=rewards_a, capsize=.2, ci=None)\n",
    "rewards_a_plot.set_xlabel(\"Probability of tile being frozen (p)\")\n",
    "rewards_a_plot.set_ylabel(\"Reward\")\n",
    "plt.legend(loc=\"upper left\", bbox_to_anchor=(1,0.75), title = \"Agent\")\n",
    "# rewards_a_plot.set(ylim=(-0.1, 1.1))\n"
   ]
  },
  {
   "cell_type": "code",
   "execution_count": 5,
   "metadata": {},
   "outputs": [
    {
     "data": {
      "text/html": [
       "<div>\n",
       "<style scoped>\n",
       "    .dataframe tbody tr th:only-of-type {\n",
       "        vertical-align: middle;\n",
       "    }\n",
       "\n",
       "    .dataframe tbody tr th {\n",
       "        vertical-align: top;\n",
       "    }\n",
       "\n",
       "    .dataframe thead th {\n",
       "        text-align: right;\n",
       "    }\n",
       "</style>\n",
       "<table border=\"1\" class=\"dataframe\">\n",
       "  <thead>\n",
       "    <tr style=\"text-align: right;\">\n",
       "      <th></th>\n",
       "      <th></th>\n",
       "      <th>run</th>\n",
       "      <th>reward</th>\n",
       "      <th>success</th>\n",
       "    </tr>\n",
       "    <tr>\n",
       "      <th>p</th>\n",
       "      <th>agent</th>\n",
       "      <th></th>\n",
       "      <th></th>\n",
       "      <th></th>\n",
       "    </tr>\n",
       "  </thead>\n",
       "  <tbody>\n",
       "    <tr>\n",
       "      <th rowspan=\"6\" valign=\"top\">0.6</th>\n",
       "      <th>HA</th>\n",
       "      <td>25.5</td>\n",
       "      <td>0.5000</td>\n",
       "      <td>0.50</td>\n",
       "    </tr>\n",
       "    <tr>\n",
       "      <th>NSA</th>\n",
       "      <td>25.5</td>\n",
       "      <td>1.0000</td>\n",
       "      <td>1.00</td>\n",
       "    </tr>\n",
       "    <tr>\n",
       "      <th>RA</th>\n",
       "      <td>25.5</td>\n",
       "      <td>-0.9800</td>\n",
       "      <td>0.00</td>\n",
       "    </tr>\n",
       "    <tr>\n",
       "      <th>SRA</th>\n",
       "      <td>25.5</td>\n",
       "      <td>0.0200</td>\n",
       "      <td>0.02</td>\n",
       "    </tr>\n",
       "    <tr>\n",
       "      <th>advanced SA</th>\n",
       "      <td>25.5</td>\n",
       "      <td>1.0000</td>\n",
       "      <td>1.00</td>\n",
       "    </tr>\n",
       "    <tr>\n",
       "      <th>naive SA</th>\n",
       "      <td>25.5</td>\n",
       "      <td>0.3626</td>\n",
       "      <td>0.36</td>\n",
       "    </tr>\n",
       "    <tr>\n",
       "      <th rowspan=\"6\" valign=\"top\">0.7</th>\n",
       "      <th>HA</th>\n",
       "      <td>25.5</td>\n",
       "      <td>0.6400</td>\n",
       "      <td>0.64</td>\n",
       "    </tr>\n",
       "    <tr>\n",
       "      <th>NSA</th>\n",
       "      <td>25.5</td>\n",
       "      <td>1.0000</td>\n",
       "      <td>1.00</td>\n",
       "    </tr>\n",
       "    <tr>\n",
       "      <th>RA</th>\n",
       "      <td>25.5</td>\n",
       "      <td>-0.9800</td>\n",
       "      <td>0.00</td>\n",
       "    </tr>\n",
       "    <tr>\n",
       "      <th>SRA</th>\n",
       "      <td>25.5</td>\n",
       "      <td>0.0200</td>\n",
       "      <td>0.02</td>\n",
       "    </tr>\n",
       "    <tr>\n",
       "      <th>advanced SA</th>\n",
       "      <td>25.5</td>\n",
       "      <td>1.0000</td>\n",
       "      <td>1.00</td>\n",
       "    </tr>\n",
       "    <tr>\n",
       "      <th>naive SA</th>\n",
       "      <td>25.5</td>\n",
       "      <td>0.4600</td>\n",
       "      <td>0.46</td>\n",
       "    </tr>\n",
       "    <tr>\n",
       "      <th rowspan=\"6\" valign=\"top\">0.8</th>\n",
       "      <th>HA</th>\n",
       "      <td>25.5</td>\n",
       "      <td>0.6000</td>\n",
       "      <td>0.60</td>\n",
       "    </tr>\n",
       "    <tr>\n",
       "      <th>NSA</th>\n",
       "      <td>25.5</td>\n",
       "      <td>1.0000</td>\n",
       "      <td>1.00</td>\n",
       "    </tr>\n",
       "    <tr>\n",
       "      <th>RA</th>\n",
       "      <td>25.5</td>\n",
       "      <td>-0.9400</td>\n",
       "      <td>0.00</td>\n",
       "    </tr>\n",
       "    <tr>\n",
       "      <th>SRA</th>\n",
       "      <td>25.5</td>\n",
       "      <td>0.0400</td>\n",
       "      <td>0.04</td>\n",
       "    </tr>\n",
       "    <tr>\n",
       "      <th>advanced SA</th>\n",
       "      <td>25.5</td>\n",
       "      <td>1.0000</td>\n",
       "      <td>1.00</td>\n",
       "    </tr>\n",
       "    <tr>\n",
       "      <th>naive SA</th>\n",
       "      <td>25.5</td>\n",
       "      <td>0.5200</td>\n",
       "      <td>0.52</td>\n",
       "    </tr>\n",
       "    <tr>\n",
       "      <th rowspan=\"6\" valign=\"top\">0.9</th>\n",
       "      <th>HA</th>\n",
       "      <td>25.5</td>\n",
       "      <td>0.9200</td>\n",
       "      <td>0.92</td>\n",
       "    </tr>\n",
       "    <tr>\n",
       "      <th>NSA</th>\n",
       "      <td>25.5</td>\n",
       "      <td>1.0000</td>\n",
       "      <td>1.00</td>\n",
       "    </tr>\n",
       "    <tr>\n",
       "      <th>RA</th>\n",
       "      <td>25.5</td>\n",
       "      <td>-0.8400</td>\n",
       "      <td>0.00</td>\n",
       "    </tr>\n",
       "    <tr>\n",
       "      <th>SRA</th>\n",
       "      <td>25.5</td>\n",
       "      <td>0.0600</td>\n",
       "      <td>0.06</td>\n",
       "    </tr>\n",
       "    <tr>\n",
       "      <th>advanced SA</th>\n",
       "      <td>25.5</td>\n",
       "      <td>1.0000</td>\n",
       "      <td>1.00</td>\n",
       "    </tr>\n",
       "    <tr>\n",
       "      <th>naive SA</th>\n",
       "      <td>25.5</td>\n",
       "      <td>0.7800</td>\n",
       "      <td>0.78</td>\n",
       "    </tr>\n",
       "  </tbody>\n",
       "</table>\n",
       "</div>"
      ],
      "text/plain": [
       "                  run  reward  success\n",
       "p   agent                             \n",
       "0.6 HA           25.5  0.5000     0.50\n",
       "    NSA          25.5  1.0000     1.00\n",
       "    RA           25.5 -0.9800     0.00\n",
       "    SRA          25.5  0.0200     0.02\n",
       "    advanced SA  25.5  1.0000     1.00\n",
       "    naive SA     25.5  0.3626     0.36\n",
       "0.7 HA           25.5  0.6400     0.64\n",
       "    NSA          25.5  1.0000     1.00\n",
       "    RA           25.5 -0.9800     0.00\n",
       "    SRA          25.5  0.0200     0.02\n",
       "    advanced SA  25.5  1.0000     1.00\n",
       "    naive SA     25.5  0.4600     0.46\n",
       "0.8 HA           25.5  0.6000     0.60\n",
       "    NSA          25.5  1.0000     1.00\n",
       "    RA           25.5 -0.9400     0.00\n",
       "    SRA          25.5  0.0400     0.04\n",
       "    advanced SA  25.5  1.0000     1.00\n",
       "    naive SA     25.5  0.5200     0.52\n",
       "0.9 HA           25.5  0.9200     0.92\n",
       "    NSA          25.5  1.0000     1.00\n",
       "    RA           25.5 -0.8400     0.00\n",
       "    SRA          25.5  0.0600     0.06\n",
       "    advanced SA  25.5  1.0000     1.00\n",
       "    naive SA     25.5  0.7800     0.78"
      ]
     },
     "execution_count": 5,
     "metadata": {},
     "output_type": "execute_result"
    }
   ],
   "source": [
    "\n",
    "a = rewards_a.groupby(['p', 'agent']).mean()\n",
    "# rewards_a[rewards_a.agent.eq('non-symbolic')][rewards_a.success.eq(0)]a\n",
    "a"
   ]
  },
  {
   "cell_type": "code",
   "execution_count": null,
   "metadata": {},
   "outputs": [],
   "source": []
  }
 ],
 "metadata": {
  "kernelspec": {
   "display_name": "Python 3.9.13 ('py39')",
   "language": "python",
   "name": "python3"
  },
  "language_info": {
   "codemirror_mode": {
    "name": "ipython",
    "version": 3
   },
   "file_extension": ".py",
   "mimetype": "text/x-python",
   "name": "python",
   "nbconvert_exporter": "python",
   "pygments_lexer": "ipython3",
   "version": "3.9.13"
  },
  "orig_nbformat": 4,
  "vscode": {
   "interpreter": {
    "hash": "911af48cb114f1badf26f9e728447efe2c39b0dc7018bfc0d818f2f864bac44a"
   }
  }
 },
 "nbformat": 4,
 "nbformat_minor": 2
}
