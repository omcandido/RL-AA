{
 "cells": [
  {
   "cell_type": "code",
   "execution_count": 6,
   "metadata": {},
   "outputs": [],
   "source": [
    "import socket\n",
    "import subprocess\n",
    "import time    \n"
   ]
  },
  {
   "cell_type": "code",
   "execution_count": 7,
   "metadata": {},
   "outputs": [
    {
     "data": {
      "text/plain": [
       "'172.17.238.178'"
      ]
     },
     "execution_count": 7,
     "metadata": {},
     "output_type": "execute_result"
    }
   ],
   "source": [
    "batcmd=\"wsl hostname -I\"\n",
    "result = subprocess.check_output(batcmd, shell=True)\n",
    "HOST = result.decode(\"utf-8\").strip()\n",
    "HOST"
   ]
  },
  {
   "cell_type": "code",
   "execution_count": null,
   "metadata": {},
   "outputs": [
    {
     "name": "stdout",
     "output_type": "stream",
     "text": [
      "1668469810506\n"
     ]
    }
   ],
   "source": [
    "# HOST = \"172.17.235.176\"\n",
    "# HOST = \"127.0.0.1\"\n",
    "PORT = 7000\n",
    "\n",
    "with socket.socket(socket.AF_INET, socket.SOCK_DGRAM) as s:\n",
    "    epoch_time = round(time.time()*1000)\n",
    "    s.sendto(str(epoch_time).encode(), (HOST, PORT))\n",
    "\n",
    "print(epoch_time)\n",
    "# print(f\"Received {data!r}\")"
   ]
  },
  {
   "cell_type": "code",
   "execution_count": 10,
   "metadata": {},
   "outputs": [
    {
     "ename": "ConnectionRefusedError",
     "evalue": "[WinError 10061] No se puede establecer una conexión ya que el equipo de destino denegó expresamente dicha conexión",
     "output_type": "error",
     "traceback": [
      "\u001b[1;31m---------------------------------------------------------------------------\u001b[0m",
      "\u001b[1;31mConnectionRefusedError\u001b[0m                    Traceback (most recent call last)",
      "\u001b[1;32md:\\Thesis\\RL-AA\\src\\robocup_connections.ipynb Celda 4\u001b[0m in \u001b[0;36m<cell line: 1>\u001b[1;34m()\u001b[0m\n\u001b[0;32m      <a href='vscode-notebook-cell:/d%3A/Thesis/RL-AA/src/robocup_connections.ipynb#X16sZmlsZQ%3D%3D?line=0'>1</a>\u001b[0m \u001b[39mwith\u001b[39;00m socket\u001b[39m.\u001b[39msocket(socket\u001b[39m.\u001b[39mAF_INET, socket\u001b[39m.\u001b[39mSOCK_STREAM) \u001b[39mas\u001b[39;00m s:\n\u001b[1;32m----> <a href='vscode-notebook-cell:/d%3A/Thesis/RL-AA/src/robocup_connections.ipynb#X16sZmlsZQ%3D%3D?line=1'>2</a>\u001b[0m     s\u001b[39m.\u001b[39;49mconnect((HOST, PORT))\n\u001b[0;32m      <a href='vscode-notebook-cell:/d%3A/Thesis/RL-AA/src/robocup_connections.ipynb#X16sZmlsZQ%3D%3D?line=2'>3</a>\u001b[0m     s\u001b[39m.\u001b[39msendall(\u001b[39mb\u001b[39m\u001b[39m\"\u001b[39m\u001b[39mHinit foo)\u001b[39m\u001b[39m\"\u001b[39m)\n\u001b[0;32m      <a href='vscode-notebook-cell:/d%3A/Thesis/RL-AA/src/robocup_connections.ipynb#X16sZmlsZQ%3D%3D?line=3'>4</a>\u001b[0m     data \u001b[39m=\u001b[39m s\u001b[39m.\u001b[39mrecv(\u001b[39m1024\u001b[39m)\n",
      "\u001b[1;31mConnectionRefusedError\u001b[0m: [WinError 10061] No se puede establecer una conexión ya que el equipo de destino denegó expresamente dicha conexión"
     ]
    }
   ],
   "source": [
    "with socket.socket(socket.AF_INET, socket.SOCK_STREAM) as s:\n",
    "    s.connect((HOST, PORT))\n",
    "    s.sendall(b\"Hinit foo)\")\n",
    "    data = s.recv(1024)\n",
    "\n",
    "print(f\"Received {data!r}\")"
   ]
  },
  {
   "cell_type": "code",
   "execution_count": null,
   "metadata": {},
   "outputs": [
    {
     "name": "stdout",
     "output_type": "stream",
     "text": [
      "Received b'msg from server: windows here!'\n"
     ]
    }
   ],
   "source": [
    "with socket.socket(socket.AF_INET, socket.SOCK_STREAM) as s:\n",
    "    s.connect((HOST, PORT))\n",
    "    s.sendall(b\"windows here!\")\n",
    "    data = s.recv(1024)\n",
    "\n",
    "print(f\"Received {data!r}\")"
   ]
  },
  {
   "cell_type": "code",
   "execution_count": 22,
   "metadata": {},
   "outputs": [
    {
     "name": "stdout",
     "output_type": "stream",
     "text": [
      "\\\\wsl$\\Ubuntu-16.04\\run\\systemd\\resolve\\resolv.conf\n"
     ]
    }
   ],
   "source": [
    "path = r\"\\\\wsl$\\Ubuntu-16.04\\home\\candido\\robocup\\ORLA\"\n",
    "path = r\"\\\\wsl$\\Ubuntu-16.04\\run\\systemd\\resolve\\resolv.conf\"\n",
    "# /run/systemd/resolve/resolv.conf\n",
    "# path = r\"\\\\wsl$\\Ubuntu-16.04\\home\\candido\\robocup\\ORLA\\ordering.txt\"\n",
    "\n",
    "print(path)\n",
    "\n",
    "f = open(path, \"r\")\n",
    "# f = open(path + \"\\demofile2.txt\", \"a\")\n",
    "# f.write(\"Now the file has more content!\")\n",
    "f.close()"
   ]
  },
  {
   "cell_type": "code",
   "execution_count": null,
   "metadata": {},
   "outputs": [],
   "source": []
  }
 ],
 "metadata": {
  "kernelspec": {
   "display_name": "Python 3.9.13 ('py39')",
   "language": "python",
   "name": "python3"
  },
  "language_info": {
   "codemirror_mode": {
    "name": "ipython",
    "version": 3
   },
   "file_extension": ".py",
   "mimetype": "text/x-python",
   "name": "python",
   "nbconvert_exporter": "python",
   "pygments_lexer": "ipython3",
   "version": "3.9.13"
  },
  "orig_nbformat": 4,
  "vscode": {
   "interpreter": {
    "hash": "911af48cb114f1badf26f9e728447efe2c39b0dc7018bfc0d818f2f864bac44a"
   }
  }
 },
 "nbformat": 4,
 "nbformat_minor": 2
}
