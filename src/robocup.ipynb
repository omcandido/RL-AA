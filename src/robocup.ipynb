{
 "cells": [
  {
   "cell_type": "code",
   "execution_count": 16,
   "metadata": {},
   "outputs": [],
   "source": [
    "from environments.takeaway import utils as twy\n",
    "from environments.takeaway.co_aa_takeaway import COAATakeaway\n",
    "from argumentation.utils import construct_all_attacks\n",
    "from argumentation.classes import ArgumentationFramework\n",
    "from agents.co_aa_agent import COAAAgent\n",
    "from utils import run_episode\n",
    "\n",
    "import subprocess\n",
    "import socket\n",
    "import numpy as np\n",
    "import pandas as pd\n",
    "import seaborn as sns\n",
    "%matplotlib inline\n",
    "import matplotlib.pyplot as plt\n",
    "plt.style.use('seaborn-whitegrid')\n",
    "\n",
    "from tqdm.notebook import tqdm"
   ]
  },
  {
   "cell_type": "code",
   "execution_count": 17,
   "metadata": {},
   "outputs": [],
   "source": [
    "def get_host(mode: str = 'recv'):\n",
    "    batcmd=\"wsl hostname -I\"\n",
    "    result = subprocess.check_output(batcmd, shell=True)\n",
    "    if mode == 'send':\n",
    "        return result.decode(\"utf-8\").strip()\n",
    "    return socket.gethostbyname(socket.gethostname())"
   ]
  },
  {
   "cell_type": "code",
   "execution_count": 18,
   "metadata": {},
   "outputs": [],
   "source": [
    "arg_actions = twy.arg_actions\n",
    "args = args_naive = list(arg_actions.keys())\n",
    "# atts = construct_all_attacks(arg_actions)\n",
    "# af = ArgumentationFramework(args, atts)"
   ]
  },
  {
   "cell_type": "code",
   "execution_count": 19,
   "metadata": {},
   "outputs": [
    {
     "data": {
      "application/vnd.jupyter.widget-view+json": {
       "model_id": "af5ff2bb13954a4b8888225f9688ce7a",
       "version_major": 2,
       "version_minor": 0
      },
      "text/plain": [
       "  0%|          | 0/10000 [00:00<?, ?it/s]"
      ]
     },
     "metadata": {},
     "output_type": "display_data"
    },
    {
     "ename": "KeyboardInterrupt",
     "evalue": "",
     "output_type": "error",
     "traceback": [
      "\u001b[1;31m---------------------------------------------------------------------------\u001b[0m",
      "\u001b[1;31mKeyboardInterrupt\u001b[0m                         Traceback (most recent call last)",
      "\u001b[1;32md:\\Thesis\\RL-AA\\src\\robocup.ipynb Celda 4\u001b[0m in \u001b[0;36m<cell line: 23>\u001b[1;34m()\u001b[0m\n\u001b[0;32m     <a href='vscode-notebook-cell:/d%3A/Thesis/RL-AA/src/robocup.ipynb#X11sZmlsZQ%3D%3D?line=22'>23</a>\u001b[0m \u001b[39mfor\u001b[39;00m episode \u001b[39min\u001b[39;00m t_episodes:\n\u001b[0;32m     <a href='vscode-notebook-cell:/d%3A/Thesis/RL-AA/src/robocup.ipynb#X11sZmlsZQ%3D%3D?line=23'>24</a>\u001b[0m     start_state \u001b[39m=\u001b[39m env\u001b[39m.\u001b[39mreset()\n\u001b[1;32m---> <a href='vscode-notebook-cell:/d%3A/Thesis/RL-AA/src/robocup.ipynb#X11sZmlsZQ%3D%3D?line=24'>25</a>\u001b[0m     end_state, reward, animation_data \u001b[39m=\u001b[39m run_episode(env, agent, start_state, is_learning\u001b[39m=\u001b[39;49m\u001b[39mTrue\u001b[39;49;00m, is_animating\u001b[39m=\u001b[39;49m\u001b[39mFalse\u001b[39;49;00m, is_rendering\u001b[39m=\u001b[39;49m\u001b[39mFalse\u001b[39;49;00m)\n\u001b[0;32m     <a href='vscode-notebook-cell:/d%3A/Thesis/RL-AA/src/robocup.ipynb#X11sZmlsZQ%3D%3D?line=25'>26</a>\u001b[0m     rewards\u001b[39m.\u001b[39mappend(reward)\n\u001b[0;32m     <a href='vscode-notebook-cell:/d%3A/Thesis/RL-AA/src/robocup.ipynb#X11sZmlsZQ%3D%3D?line=26'>27</a>\u001b[0m     t_episodes\u001b[39m.\u001b[39mset_postfix({\u001b[39m'\u001b[39m\u001b[39mavg\u001b[39m\u001b[39m'\u001b[39m: np\u001b[39m.\u001b[39maverage(rewards[\u001b[39m-\u001b[39m\u001b[39m100\u001b[39m:]), \u001b[39m'\u001b[39m\u001b[39mlast\u001b[39m\u001b[39m'\u001b[39m: rewards[\u001b[39m-\u001b[39m\u001b[39m1\u001b[39m]})\n",
      "File \u001b[1;32md:\\Thesis\\RL-AA\\src\\utils.py:53\u001b[0m, in \u001b[0;36mrun_episode\u001b[1;34m(env, agent, initial_state, is_learning, is_animating, is_rendering)\u001b[0m\n\u001b[0;32m     50\u001b[0m     env\u001b[39m.\u001b[39mrender()\n\u001b[0;32m     51\u001b[0m     time\u001b[39m.\u001b[39msleep(\u001b[39m0.25\u001b[39m)\n\u001b[1;32m---> 53\u001b[0m next_state, reward, done, _ \u001b[39m=\u001b[39m env\u001b[39m.\u001b[39;49mstep(current_action)\n\u001b[0;32m     54\u001b[0m total_reward \u001b[39m+\u001b[39m\u001b[39m=\u001b[39m reward\n\u001b[0;32m     56\u001b[0m \u001b[39mif\u001b[39;00m is_animating:\n",
      "File \u001b[1;32md:\\Thesis\\RL-AA\\src\\environments\\takeaway\\co_aa_takeaway.py:68\u001b[0m, in \u001b[0;36mCOAATakeaway.step\u001b[1;34m(self, action)\u001b[0m\n\u001b[0;32m     66\u001b[0m \u001b[39mif\u001b[39;00m done:\n\u001b[0;32m     67\u001b[0m     \u001b[39mself\u001b[39m\u001b[39m.\u001b[39m_save_ordering()\n\u001b[1;32m---> 68\u001b[0m     reward \u001b[39m=\u001b[39m \u001b[39mself\u001b[39;49m\u001b[39m.\u001b[39;49m_get_game_reward()\n\u001b[0;32m     69\u001b[0m \u001b[39melse\u001b[39;00m:\n\u001b[0;32m     70\u001b[0m     reward \u001b[39m=\u001b[39m \u001b[39m0\u001b[39m\n",
      "File \u001b[1;32md:\\Thesis\\RL-AA\\src\\environments\\takeaway\\co_aa_takeaway.py:92\u001b[0m, in \u001b[0;36mCOAATakeaway._get_game_reward\u001b[1;34m(self)\u001b[0m\n\u001b[0;32m     90\u001b[0m reward \u001b[39m=\u001b[39m \u001b[39m\"\u001b[39m\u001b[39m\"\u001b[39m\n\u001b[0;32m     91\u001b[0m \u001b[39mwhile\u001b[39;00m reward \u001b[39m==\u001b[39m \u001b[39m\"\u001b[39m\u001b[39m\"\u001b[39m:\n\u001b[1;32m---> 92\u001b[0m     reward, addr \u001b[39m=\u001b[39m s\u001b[39m.\u001b[39;49mrecvfrom(\u001b[39m8\u001b[39;49m)\n\u001b[0;32m     93\u001b[0m     reward \u001b[39m=\u001b[39m \u001b[39mfloat\u001b[39m(reward\u001b[39m.\u001b[39mdecode(\u001b[39m\"\u001b[39m\u001b[39mutf-8\u001b[39m\u001b[39m\"\u001b[39m))\n\u001b[0;32m     94\u001b[0m     reward \u001b[39m=\u001b[39m \u001b[39m-\u001b[39m reward\n",
      "\u001b[1;31mKeyboardInterrupt\u001b[0m: "
     ]
    }
   ],
   "source": [
    "rewards = []\n",
    "\n",
    "epsilon = 0.01\n",
    "gamma = 0.99\n",
    "alpha = 5e-2\n",
    "agent = COAAAgent(alpha, gamma, epsilon, args)\n",
    "ordering_path = r\"\\\\wsl$\\Ubuntu-16.04\\home\\candido\\robocup\\ORLA\\ordering.txt\"\n",
    "send_host = get_host('send')\n",
    "send_port = 7000\n",
    "recv_host = get_host('recv')\n",
    "recv_port = 7001\n",
    "\n",
    "env = COAATakeaway(\n",
    "    args,   \n",
    "    send_host,\n",
    "    send_port,\n",
    "    recv_host,\n",
    "    recv_port,\n",
    "    ordering_path\n",
    ")\n",
    "\n",
    "t_episodes = tqdm(range(1, int(1e4)+1))\n",
    "for episode in t_episodes:\n",
    "    start_state = env.reset()\n",
    "    end_state, reward, animation_data = run_episode(env, agent, start_state, is_learning=True, is_animating=False, is_rendering=False)\n",
    "    rewards.append(reward)\n",
    "    t_episodes.set_postfix({'avg': np.average(rewards[-100:]), 'last': rewards[-1]})\n",
    "\n"
   ]
  },
  {
   "cell_type": "code",
   "execution_count": 20,
   "metadata": {},
   "outputs": [
    {
     "data": {
      "text/plain": [
       "[<matplotlib.lines.Line2D at 0x17347b54730>]"
      ]
     },
     "execution_count": 20,
     "metadata": {},
     "output_type": "execute_result"
    },
    {
     "data": {
      "image/png": "[encoded data removed]",
      "text/plain": [
       "<Figure size 432x288 with 1 Axes>"
      ]
     },
     "metadata": {},
     "output_type": "display_data"
    }
   ],
   "source": [
    "plt.plot(rewards)"
   ]
  },
  {
   "cell_type": "code",
   "execution_count": 13,
   "metadata": {},
   "outputs": [
    {
     "name": "stderr",
     "output_type": "stream",
     "text": [
      "c:\\Users\\omcan\\miniconda3\\envs\\py39\\lib\\site-packages\\seaborn\\rcmod.py:400: DeprecationWarning: distutils Version classes are deprecated. Use packaging.version instead.\n",
      "  if LooseVersion(mpl.__version__) >= \"3.0\":\n",
      "c:\\Users\\omcan\\miniconda3\\envs\\py39\\lib\\site-packages\\setuptools\\_distutils\\version.py:346: DeprecationWarning: distutils Version classes are deprecated. Use packaging.version instead.\n",
      "  other = LooseVersion(other)\n"
     ]
    },
    {
     "ename": "TypeError",
     "evalue": "Index(...) must be called with a collection of some kind, 'reward' was passed",
     "output_type": "error",
     "traceback": [
      "\u001b[1;31m---------------------------------------------------------------------------\u001b[0m",
      "\u001b[1;31mTypeError\u001b[0m                                 Traceback (most recent call last)",
      "\u001b[1;32md:\\Thesis\\RL-AA\\src\\robocup.ipynb Celda 5\u001b[0m in \u001b[0;36m<cell line: 4>\u001b[1;34m()\u001b[0m\n\u001b[0;32m      <a href='vscode-notebook-cell:/d%3A/Thesis/RL-AA/src/robocup.ipynb#X21sZmlsZQ%3D%3D?line=0'>1</a>\u001b[0m sns\u001b[39m.\u001b[39mset(rc \u001b[39m=\u001b[39m {\u001b[39m'\u001b[39m\u001b[39mfigure.figsize\u001b[39m\u001b[39m'\u001b[39m:(\u001b[39m15\u001b[39m,\u001b[39m8\u001b[39m)}, style\u001b[39m=\u001b[39m\u001b[39m'\u001b[39m\u001b[39mwhitegrid\u001b[39m\u001b[39m'\u001b[39m)\n\u001b[0;32m      <a href='vscode-notebook-cell:/d%3A/Thesis/RL-AA/src/robocup.ipynb#X21sZmlsZQ%3D%3D?line=1'>2</a>\u001b[0m sns\u001b[39m.\u001b[39mset_context(\u001b[39m\"\u001b[39m\u001b[39mposter\u001b[39m\u001b[39m\"\u001b[39m, rc\u001b[39m=\u001b[39m{\u001b[39m\"\u001b[39m\u001b[39mlines.linewidth\u001b[39m\u001b[39m\"\u001b[39m: \u001b[39m2\u001b[39m}, font_scale\u001b[39m=\u001b[39m\u001b[39m1\u001b[39m)\n\u001b[1;32m----> <a href='vscode-notebook-cell:/d%3A/Thesis/RL-AA/src/robocup.ipynb#X21sZmlsZQ%3D%3D?line=3'>4</a>\u001b[0m df \u001b[39m=\u001b[39m pd\u001b[39m.\u001b[39;49mDataFrame(rewards, columns\u001b[39m=\u001b[39;49m(\u001b[39m'\u001b[39;49m\u001b[39mreward\u001b[39;49m\u001b[39m'\u001b[39;49m))\n\u001b[0;32m      <a href='vscode-notebook-cell:/d%3A/Thesis/RL-AA/src/robocup.ipynb#X21sZmlsZQ%3D%3D?line=4'>5</a>\u001b[0m df[\u001b[39m'\u001b[39m\u001b[39mreward_avg\u001b[39m\u001b[39m'\u001b[39m] \u001b[39m=\u001b[39m df\u001b[39m.\u001b[39mtransform(\u001b[39mlambda\u001b[39;00m x: x\u001b[39m.\u001b[39mrolling(\u001b[39m1\u001b[39m)\u001b[39m.\u001b[39mmean())\n\u001b[0;32m      <a href='vscode-notebook-cell:/d%3A/Thesis/RL-AA/src/robocup.ipynb#X21sZmlsZQ%3D%3D?line=6'>7</a>\u001b[0m rewards_plot \u001b[39m=\u001b[39m sns\u001b[39m.\u001b[39mlineplot(x\u001b[39m=\u001b[39m\u001b[39m'\u001b[39m\u001b[39mepisode\u001b[39m\u001b[39m'\u001b[39m, y\u001b[39m=\u001b[39m\u001b[39m'\u001b[39m\u001b[39mreward_avg\u001b[39m\u001b[39m'\u001b[39m, data\u001b[39m=\u001b[39mdf, color\u001b[39m=\u001b[39m\u001b[39m\"\u001b[39m\u001b[39mb\u001b[39m\u001b[39m\"\u001b[39m)\n",
      "File \u001b[1;32mc:\\Users\\omcan\\miniconda3\\envs\\py39\\lib\\site-packages\\pandas\\core\\frame.py:737\u001b[0m, in \u001b[0;36mDataFrame.__init__\u001b[1;34m(self, data, index, columns, dtype, copy)\u001b[0m\n\u001b[0;32m    729\u001b[0m         mgr \u001b[39m=\u001b[39m arrays_to_mgr(\n\u001b[0;32m    730\u001b[0m             arrays,\n\u001b[0;32m    731\u001b[0m             columns,\n\u001b[1;32m   (...)\u001b[0m\n\u001b[0;32m    734\u001b[0m             typ\u001b[39m=\u001b[39mmanager,\n\u001b[0;32m    735\u001b[0m         )\n\u001b[0;32m    736\u001b[0m     \u001b[39melse\u001b[39;00m:\n\u001b[1;32m--> 737\u001b[0m         mgr \u001b[39m=\u001b[39m ndarray_to_mgr(\n\u001b[0;32m    738\u001b[0m             data,\n\u001b[0;32m    739\u001b[0m             index,\n\u001b[0;32m    740\u001b[0m             columns,\n\u001b[0;32m    741\u001b[0m             dtype\u001b[39m=\u001b[39;49mdtype,\n\u001b[0;32m    742\u001b[0m             copy\u001b[39m=\u001b[39;49mcopy,\n\u001b[0;32m    743\u001b[0m             typ\u001b[39m=\u001b[39;49mmanager,\n\u001b[0;32m    744\u001b[0m         )\n\u001b[0;32m    745\u001b[0m \u001b[39melse\u001b[39;00m:\n\u001b[0;32m    746\u001b[0m     mgr \u001b[39m=\u001b[39m dict_to_mgr(\n\u001b[0;32m    747\u001b[0m         {},\n\u001b[0;32m    748\u001b[0m         index,\n\u001b[1;32m   (...)\u001b[0m\n\u001b[0;32m    751\u001b[0m         typ\u001b[39m=\u001b[39mmanager,\n\u001b[0;32m    752\u001b[0m     )\n",
      "File \u001b[1;32mc:\\Users\\omcan\\miniconda3\\envs\\py39\\lib\\site-packages\\pandas\\core\\internals\\construction.py:347\u001b[0m, in \u001b[0;36mndarray_to_mgr\u001b[1;34m(values, index, columns, dtype, copy, typ)\u001b[0m\n\u001b[0;32m    344\u001b[0m     values \u001b[39m=\u001b[39m values\u001b[39m.\u001b[39mreshape(shape)\n\u001b[0;32m    346\u001b[0m \u001b[39m# _prep_ndarray ensures that values.ndim == 2 at this point\u001b[39;00m\n\u001b[1;32m--> 347\u001b[0m index, columns \u001b[39m=\u001b[39m _get_axes(\n\u001b[0;32m    348\u001b[0m     values\u001b[39m.\u001b[39;49mshape[\u001b[39m0\u001b[39;49m], values\u001b[39m.\u001b[39;49mshape[\u001b[39m1\u001b[39;49m], index\u001b[39m=\u001b[39;49mindex, columns\u001b[39m=\u001b[39;49mcolumns\n\u001b[0;32m    349\u001b[0m )\n\u001b[0;32m    351\u001b[0m _check_values_indices_shape_match(values, index, columns)\n\u001b[0;32m    353\u001b[0m \u001b[39mif\u001b[39;00m typ \u001b[39m==\u001b[39m \u001b[39m\"\u001b[39m\u001b[39marray\u001b[39m\u001b[39m\"\u001b[39m:\n",
      "File \u001b[1;32mc:\\Users\\omcan\\miniconda3\\envs\\py39\\lib\\site-packages\\pandas\\core\\internals\\construction.py:761\u001b[0m, in \u001b[0;36m_get_axes\u001b[1;34m(N, K, index, columns)\u001b[0m\n\u001b[0;32m    759\u001b[0m     columns \u001b[39m=\u001b[39m default_index(K)\n\u001b[0;32m    760\u001b[0m \u001b[39melse\u001b[39;00m:\n\u001b[1;32m--> 761\u001b[0m     columns \u001b[39m=\u001b[39m ensure_index(columns)\n\u001b[0;32m    762\u001b[0m \u001b[39mreturn\u001b[39;00m index, columns\n",
      "File \u001b[1;32mc:\\Users\\omcan\\miniconda3\\envs\\py39\\lib\\site-packages\\pandas\\core\\indexes\\base.py:7043\u001b[0m, in \u001b[0;36mensure_index\u001b[1;34m(index_like, copy)\u001b[0m\n\u001b[0;32m   7041\u001b[0m         \u001b[39mreturn\u001b[39;00m Index\u001b[39m.\u001b[39m_with_infer(index_like, copy\u001b[39m=\u001b[39mcopy, tupleize_cols\u001b[39m=\u001b[39m\u001b[39mFalse\u001b[39;00m)\n\u001b[0;32m   7042\u001b[0m \u001b[39melse\u001b[39;00m:\n\u001b[1;32m-> 7043\u001b[0m     \u001b[39mreturn\u001b[39;00m Index\u001b[39m.\u001b[39;49m_with_infer(index_like, copy\u001b[39m=\u001b[39;49mcopy)\n",
      "File \u001b[1;32mc:\\Users\\omcan\\miniconda3\\envs\\py39\\lib\\site-packages\\pandas\\core\\indexes\\base.py:680\u001b[0m, in \u001b[0;36mIndex._with_infer\u001b[1;34m(cls, *args, **kwargs)\u001b[0m\n\u001b[0;32m    678\u001b[0m \u001b[39mwith\u001b[39;00m warnings\u001b[39m.\u001b[39mcatch_warnings():\n\u001b[0;32m    679\u001b[0m     warnings\u001b[39m.\u001b[39mfilterwarnings(\u001b[39m\"\u001b[39m\u001b[39mignore\u001b[39m\u001b[39m\"\u001b[39m, \u001b[39m\"\u001b[39m\u001b[39m.*the Index constructor\u001b[39m\u001b[39m\"\u001b[39m, \u001b[39mFutureWarning\u001b[39;00m)\n\u001b[1;32m--> 680\u001b[0m     result \u001b[39m=\u001b[39m \u001b[39mcls\u001b[39m(\u001b[39m*\u001b[39margs, \u001b[39m*\u001b[39m\u001b[39m*\u001b[39mkwargs)\n\u001b[0;32m    682\u001b[0m \u001b[39mif\u001b[39;00m result\u001b[39m.\u001b[39mdtype \u001b[39m==\u001b[39m _dtype_obj \u001b[39mand\u001b[39;00m \u001b[39mnot\u001b[39;00m result\u001b[39m.\u001b[39m_is_multi:\n\u001b[0;32m    683\u001b[0m     \u001b[39m# error: Argument 1 to \"maybe_convert_objects\" has incompatible type\u001b[39;00m\n\u001b[0;32m    684\u001b[0m     \u001b[39m# \"Union[ExtensionArray, ndarray[Any, Any]]\"; expected\u001b[39;00m\n\u001b[0;32m    685\u001b[0m     \u001b[39m# \"ndarray[Any, Any]\"\u001b[39;00m\n\u001b[0;32m    686\u001b[0m     values \u001b[39m=\u001b[39m lib\u001b[39m.\u001b[39mmaybe_convert_objects(result\u001b[39m.\u001b[39m_values)  \u001b[39m# type: ignore[arg-type]\u001b[39;00m\n",
      "File \u001b[1;32mc:\\Users\\omcan\\miniconda3\\envs\\py39\\lib\\site-packages\\pandas\\core\\indexes\\base.py:508\u001b[0m, in \u001b[0;36mIndex.__new__\u001b[1;34m(cls, data, dtype, copy, name, tupleize_cols, **kwargs)\u001b[0m\n\u001b[0;32m    505\u001b[0m     \u001b[39mreturn\u001b[39;00m klass\u001b[39m.\u001b[39m_simple_new(arr, name)\n\u001b[0;32m    507\u001b[0m \u001b[39melif\u001b[39;00m is_scalar(data):\n\u001b[1;32m--> 508\u001b[0m     \u001b[39mraise\u001b[39;00m \u001b[39mcls\u001b[39m\u001b[39m.\u001b[39m_scalar_data_error(data)\n\u001b[0;32m    509\u001b[0m \u001b[39melif\u001b[39;00m \u001b[39mhasattr\u001b[39m(data, \u001b[39m\"\u001b[39m\u001b[39m__array__\u001b[39m\u001b[39m\"\u001b[39m):\n\u001b[0;32m    510\u001b[0m     \u001b[39mreturn\u001b[39;00m Index(np\u001b[39m.\u001b[39masarray(data), dtype\u001b[39m=\u001b[39mdtype, copy\u001b[39m=\u001b[39mcopy, name\u001b[39m=\u001b[39mname, \u001b[39m*\u001b[39m\u001b[39m*\u001b[39mkwargs)\n",
      "\u001b[1;31mTypeError\u001b[0m: Index(...) must be called with a collection of some kind, 'reward' was passed"
     ]
    }
   ],
   "source": [
    "sns.set(rc = {'figure.figsize':(15,8)}, style='whitegrid')\n",
    "sns.set_context(\"poster\", rc={\"lines.linewidth\": 2}, font_scale=1)\n",
    "\n",
    "df = pd.DataFrame(rewards, columns=('reward'))\n",
    "df['reward_avg'] = df.transform(lambda x: x.rolling(1).mean())\n",
    "  \n",
    "rewards_plot = sns.lineplot(x='episode', y='reward_avg', data=df, color=\"b\")\n",
    "rewards_plot.set(ylim=(0, 1))\n",
    "rewards_plot.set(ylabel=\"Reward\")\n",
    "\n",
    "right_y = rewards_b_plot.axes.twinx()\n",
    "sns.lineplot(x='episode', y='acc_avg', data=eval_b, color=\"g\", ax=right_y, ci='sd')\n",
    "plt.legend(loc='lower right', handles=[Line2D([], [], marker='_', color=\"b\", label='Reward'), Line2D([], [], marker='_', color=\"g\", label='Success ratio %')], facecolor='white')\n",
    "right_y.set(ylim=(lim*100 for lim in rewards_b_plot.get_ylim()))\n",
    "right_y.set(ylabel=\"Success ratio %\")\n",
    "\n",
    "rewards_b_plot.set(xlabel=\"Episode\")\n",
    "# rewards_b_plot.set(xlim=(0, 1e6))\n",
    "plt.ticklabel_format(style='sci', axis='x', scilimits=(0,0))\n"
   ]
  }
 ],
 "metadata": {
  "kernelspec": {
   "display_name": "Python 3.9.13 ('py39')",
   "language": "python",
   "name": "python3"
  },
  "language_info": {
   "codemirror_mode": {
    "name": "ipython",
    "version": 3
   },
   "file_extension": ".py",
   "mimetype": "text/x-python",
   "name": "python",
   "nbconvert_exporter": "python",
   "pygments_lexer": "ipython3",
   "version": "3.9.13"
  },
  "orig_nbformat": 4,
  "vscode": {
   "interpreter": {
    "hash": "911af48cb114f1badf26f9e728447efe2c39b0dc7018bfc0d818f2f864bac44a"
   }
  }
 },
 "nbformat": 4,
 "nbformat_minor": 2
}
